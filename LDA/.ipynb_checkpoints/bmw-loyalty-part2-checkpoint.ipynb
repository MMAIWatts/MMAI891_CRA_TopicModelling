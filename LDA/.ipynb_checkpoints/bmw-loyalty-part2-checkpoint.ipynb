{
 "cells": [
  {
   "cell_type": "code",
   "execution_count": 1,
   "metadata": {},
   "outputs": [
    {
     "name": "stdout",
     "output_type": "stream",
     "text": [
      "/kaggle/input/cleandata_with_tenure.csv\n"
     ]
    }
   ],
   "source": [
    "import os\n",
    "for dirname, _, filenames in os.walk('/kaggle/input'):\n",
    "    for filename in filenames:\n",
    "        print(os.path.join(dirname, filename))\n"
   ]
  },
  {
   "cell_type": "code",
   "execution_count": 2,
   "metadata": {
    "_cell_guid": "b1076dfc-b9ad-4769-8c92-a6c4dae69d19",
    "_uuid": "8f2839f25d086af736a60e9eeb907d3b93b6e0e5"
   },
   "outputs": [],
   "source": [
    "#import packages\n",
    "%matplotlib inline\n",
    "\n",
    "import numpy as np \n",
    "import pandas as pd \n",
    "import matplotlib.pyplot as plt\n",
    "import seaborn as sns\n",
    "import datetime\n",
    "\n",
    "from sklearn.model_selection import train_test_split\n",
    "\n",
    "from sklearn.base import BaseEstimator, TransformerMixin\n",
    "from category_encoders.target_encoder import TargetEncoder\n",
    "from category_encoders.one_hot import OneHotEncoder\n",
    "\n",
    "from sklearn.pipeline import Pipeline\n",
    "from sklearn.pipeline import FeatureUnion\n",
    "from sklearn.preprocessing import StandardScaler\n",
    "#from sklearn.preprocessing import MinMaxScaler\n",
    "#from sklearn.impute import SimpleImputer \n",
    "\n",
    "from sklearn.feature_selection import SelectKBest , chi2, f_classif\n",
    "\n",
    "from sklearn.model_selection import GridSearchCV\n",
    "from sklearn.metrics import confusion_matrix , classification_report, roc_auc_score, f1_score, accuracy_score\n",
    "from sklearn import tree\n",
    "\n",
    "from sklearn.ensemble import RandomForestClassifier \n",
    "from sklearn.tree import DecisionTreeClassifier\n",
    "from sklearn.neighbors import KNeighborsClassifier\n",
    "from sklearn.linear_model import LogisticRegression\n",
    "from sklearn.svm import SVC\n",
    "\n",
    "\n",
    "from mlxtend.classifier import StackingClassifier"
   ]
  },
  {
   "cell_type": "code",
   "execution_count": 3,
   "metadata": {},
   "outputs": [],
   "source": [
    "pd.set_option('display.max_rows', 600)\n",
    "pd.set_option('display.max_columns', 600)"
   ]
  },
  {
   "cell_type": "code",
   "execution_count": 4,
   "metadata": {},
   "outputs": [],
   "source": [
    "# Create a clean dataset with customer tenure\n",
    "#---------------------------------------------\n",
    "\n",
    "# import datetime\n",
    "\n",
    "# now_year = datetime.datetime.now().year\n",
    "\n",
    "# clean_data_d = pd.read_csv('cleandata.csv',encoding=('latin-1'))\n",
    "# loyalty = pd.read_csv('2_ul_loyalty.csv',encoding=('latin-1'))\n",
    "\n",
    "# c_hist = loyalty[[\"newvehicle_startdate\", \"contactid_h\"]].copy()\n",
    "# c_hist[\"tenure\"] = now_year - c_hist.newvehicle_startdate.str[-4:].astype(int)\n",
    "# c_hist.drop(\"newvehicle_startdate\", axis = 1 , inplace = True)\n",
    "\n",
    "# # Group by customer id to find how long each customer has been with BMW\n",
    "# tenure = c_hist.groupby(by = \"contactid_h\").max()\n",
    "\n",
    "# df_new = clean_data_d.merge(tenure, how = \"left\", on = \"contactid_h\")\n",
    "# cleandata_with_tenure = df_new.drop(\"contactid_h\", axis =1 )\n",
    "# cleandata_with_tenure.to_csv(\"cleandata_with_tenure.csv\", index = False)"
   ]
  },
  {
   "cell_type": "code",
   "execution_count": 5,
   "metadata": {},
   "outputs": [],
   "source": [
    "# import Data\n",
    "path = \"/kaggle/input/\"\n",
    "#path= \"\"\n",
    "clean_data = pd.read_csv(path +'cleandata_with_tenure.csv',encoding=('latin-1'))"
   ]
  },
  {
   "cell_type": "code",
   "execution_count": 6,
   "metadata": {},
   "outputs": [
    {
     "data": {
      "text/html": [
       "<div>\n",
       "<style scoped>\n",
       "    .dataframe tbody tr th:only-of-type {\n",
       "        vertical-align: middle;\n",
       "    }\n",
       "\n",
       "    .dataframe tbody tr th {\n",
       "        vertical-align: top;\n",
       "    }\n",
       "\n",
       "    .dataframe thead th {\n",
       "        text-align: right;\n",
       "    }\n",
       "</style>\n",
       "<table border=\"1\" class=\"dataframe\">\n",
       "  <thead>\n",
       "    <tr style=\"text-align: right;\">\n",
       "      <th></th>\n",
       "      <th>Loyalty</th>\n",
       "      <th>city</th>\n",
       "      <th>postal</th>\n",
       "      <th>age</th>\n",
       "      <th>numberhistoricbmw</th>\n",
       "      <th>terminated_vehicle_type</th>\n",
       "      <th>terminated_certifiedpreownedflag</th>\n",
       "      <th>terminated_model</th>\n",
       "      <th>terminated_series</th>\n",
       "      <th>terminated_used_or_new</th>\n",
       "      <th>terminationdate</th>\n",
       "      <th>terminationtype</th>\n",
       "      <th>customerpay_a_sum</th>\n",
       "      <th>customerpay_a_count</th>\n",
       "      <th>customerpay_a_mean</th>\n",
       "      <th>warrantypay_a_sum</th>\n",
       "      <th>warrantypay_a_count</th>\n",
       "      <th>servicetime_sum</th>\n",
       "      <th>servicetime_mean</th>\n",
       "      <th>dayssincelastservice_mean</th>\n",
       "      <th>mileage_since_last</th>\n",
       "      <th>lastservicedate_y</th>\n",
       "      <th>originalrdrdate_y</th>\n",
       "      <th>inservicedate_y</th>\n",
       "      <th>originalpreowneddate_y</th>\n",
       "      <th>odometerreading_y</th>\n",
       "      <th>modelyear_y</th>\n",
       "      <th>productname_ins_count</th>\n",
       "      <th>term_ins_max</th>\n",
       "      <th>terminated_wholesaledealername_h</th>\n",
       "      <th>province_1</th>\n",
       "      <th>age_of_car_days</th>\n",
       "      <th>tenure</th>\n",
       "    </tr>\n",
       "  </thead>\n",
       "  <tbody>\n",
       "    <tr>\n",
       "      <th>0</th>\n",
       "      <td>0.0</td>\n",
       "      <td>Cote Saint-Luc</td>\n",
       "      <td>H4W</td>\n",
       "      <td>39</td>\n",
       "      <td>2</td>\n",
       "      <td>CPO</td>\n",
       "      <td>Y</td>\n",
       "      <td>X5 35d</td>\n",
       "      <td>X5</td>\n",
       "      <td>New</td>\n",
       "      <td>2016-02-02</td>\n",
       "      <td>F</td>\n",
       "      <td>0.0</td>\n",
       "      <td>0.0</td>\n",
       "      <td>0.0</td>\n",
       "      <td>0.0</td>\n",
       "      <td>0.0</td>\n",
       "      <td>0.0</td>\n",
       "      <td>0.0</td>\n",
       "      <td>0.0</td>\n",
       "      <td>0.0</td>\n",
       "      <td>2019-06-10 04:00:00</td>\n",
       "      <td>2012-06-13 04:00:00</td>\n",
       "      <td>2012-06-12 04:00:00</td>\n",
       "      <td>2016-03-07 05:00:00</td>\n",
       "      <td>188088</td>\n",
       "      <td>2012</td>\n",
       "      <td>1.0</td>\n",
       "      <td>48.0</td>\n",
       "      <td>6b46b289d11a05aa88149b63da3b6d51</td>\n",
       "      <td>QC</td>\n",
       "      <td>1328 days 20:00:00.000000000</td>\n",
       "      <td>3</td>\n",
       "    </tr>\n",
       "    <tr>\n",
       "      <th>1</th>\n",
       "      <td>0.0</td>\n",
       "      <td>Richmond Hill</td>\n",
       "      <td>L4B</td>\n",
       "      <td>49</td>\n",
       "      <td>1</td>\n",
       "      <td>NEW</td>\n",
       "      <td>N</td>\n",
       "      <td>X3 3.0i</td>\n",
       "      <td>X3</td>\n",
       "      <td>New</td>\n",
       "      <td>2012-04-17</td>\n",
       "      <td>N</td>\n",
       "      <td>0.0</td>\n",
       "      <td>0.0</td>\n",
       "      <td>0.0</td>\n",
       "      <td>0.0</td>\n",
       "      <td>0.0</td>\n",
       "      <td>0.0</td>\n",
       "      <td>0.0</td>\n",
       "      <td>0.0</td>\n",
       "      <td>0.0</td>\n",
       "      <td>2012-04-17 04:00:00</td>\n",
       "      <td>2004-06-18 04:00:00</td>\n",
       "      <td>2004-06-18 04:00:00</td>\n",
       "      <td>1900-01-01 05:00:00</td>\n",
       "      <td>194122</td>\n",
       "      <td>2004</td>\n",
       "      <td>0.0</td>\n",
       "      <td>0.0</td>\n",
       "      <td>5be591c8b84ea2488b36ea75447688b0</td>\n",
       "      <td>ON</td>\n",
       "      <td>2859 days 20:00:00.000000000</td>\n",
       "      <td>1</td>\n",
       "    </tr>\n",
       "    <tr>\n",
       "      <th>2</th>\n",
       "      <td>0.0</td>\n",
       "      <td>Mississauga</td>\n",
       "      <td>L5M</td>\n",
       "      <td>27</td>\n",
       "      <td>5</td>\n",
       "      <td>NEW</td>\n",
       "      <td>N</td>\n",
       "      <td>528xi</td>\n",
       "      <td>5 Series</td>\n",
       "      <td>New</td>\n",
       "      <td>2015-08-27</td>\n",
       "      <td>F</td>\n",
       "      <td>0.0</td>\n",
       "      <td>0.0</td>\n",
       "      <td>0.0</td>\n",
       "      <td>0.0</td>\n",
       "      <td>0.0</td>\n",
       "      <td>0.0</td>\n",
       "      <td>0.0</td>\n",
       "      <td>0.0</td>\n",
       "      <td>0.0</td>\n",
       "      <td>2018-04-13 04:00:00</td>\n",
       "      <td>2012-04-28 04:00:00</td>\n",
       "      <td>2012-04-26 04:00:00</td>\n",
       "      <td>1900-01-01 05:00:00</td>\n",
       "      <td>103955</td>\n",
       "      <td>2012</td>\n",
       "      <td>1.0</td>\n",
       "      <td>39.0</td>\n",
       "      <td>6b46b289d11a05aa88149b63da3b6d51</td>\n",
       "      <td>ON</td>\n",
       "      <td>1215 days 20:00:00.000000000</td>\n",
       "      <td>20</td>\n",
       "    </tr>\n",
       "    <tr>\n",
       "      <th>3</th>\n",
       "      <td>0.0</td>\n",
       "      <td>Middle Sackville</td>\n",
       "      <td>B4E</td>\n",
       "      <td>55</td>\n",
       "      <td>4</td>\n",
       "      <td>NEW</td>\n",
       "      <td>N</td>\n",
       "      <td>335i Cab</td>\n",
       "      <td>3 Series</td>\n",
       "      <td>New</td>\n",
       "      <td>2012-11-05</td>\n",
       "      <td>F</td>\n",
       "      <td>0.0</td>\n",
       "      <td>0.0</td>\n",
       "      <td>0.0</td>\n",
       "      <td>0.0</td>\n",
       "      <td>0.0</td>\n",
       "      <td>0.0</td>\n",
       "      <td>0.0</td>\n",
       "      <td>0.0</td>\n",
       "      <td>0.0</td>\n",
       "      <td>2018-10-05 04:00:00</td>\n",
       "      <td>2009-12-22 05:00:00</td>\n",
       "      <td>2009-12-11 05:00:00</td>\n",
       "      <td>1900-01-01 05:00:00</td>\n",
       "      <td>114828</td>\n",
       "      <td>2010</td>\n",
       "      <td>0.0</td>\n",
       "      <td>0.0</td>\n",
       "      <td>501228c961f307861d67c799a3c923d0</td>\n",
       "      <td>NS</td>\n",
       "      <td>1048 days 19:00:00.000000000</td>\n",
       "      <td>15</td>\n",
       "    </tr>\n",
       "    <tr>\n",
       "      <th>4</th>\n",
       "      <td>0.0</td>\n",
       "      <td>Surrey</td>\n",
       "      <td>V4N</td>\n",
       "      <td>119</td>\n",
       "      <td>1</td>\n",
       "      <td>PO</td>\n",
       "      <td>N</td>\n",
       "      <td>X3 3.0si</td>\n",
       "      <td>X3</td>\n",
       "      <td>Used</td>\n",
       "      <td>2011-12-30</td>\n",
       "      <td>F</td>\n",
       "      <td>0.0</td>\n",
       "      <td>0.0</td>\n",
       "      <td>0.0</td>\n",
       "      <td>0.0</td>\n",
       "      <td>0.0</td>\n",
       "      <td>0.0</td>\n",
       "      <td>0.0</td>\n",
       "      <td>0.0</td>\n",
       "      <td>0.0</td>\n",
       "      <td>2018-11-26 05:00:00</td>\n",
       "      <td>2009-11-26 05:00:00</td>\n",
       "      <td>2009-11-26 05:00:00</td>\n",
       "      <td>2011-12-28 05:00:00</td>\n",
       "      <td>170536</td>\n",
       "      <td>2010</td>\n",
       "      <td>0.0</td>\n",
       "      <td>0.0</td>\n",
       "      <td>e27a67b87ad41777fbf3546d7c3d84af</td>\n",
       "      <td>BC</td>\n",
       "      <td>763 days 19:00:00.000000000</td>\n",
       "      <td>3</td>\n",
       "    </tr>\n",
       "  </tbody>\n",
       "</table>\n",
       "</div>"
      ],
      "text/plain": [
       "   Loyalty              city postal  age  numberhistoricbmw  \\\n",
       "0      0.0    Cote Saint-Luc    H4W   39                  2   \n",
       "1      0.0     Richmond Hill    L4B   49                  1   \n",
       "2      0.0       Mississauga    L5M   27                  5   \n",
       "3      0.0  Middle Sackville    B4E   55                  4   \n",
       "4      0.0            Surrey    V4N  119                  1   \n",
       "\n",
       "  terminated_vehicle_type terminated_certifiedpreownedflag terminated_model  \\\n",
       "0                     CPO                                Y           X5 35d   \n",
       "1                     NEW                                N          X3 3.0i   \n",
       "2                     NEW                                N            528xi   \n",
       "3                     NEW                                N         335i Cab   \n",
       "4                      PO                                N         X3 3.0si   \n",
       "\n",
       "  terminated_series terminated_used_or_new terminationdate terminationtype  \\\n",
       "0                X5                    New      2016-02-02               F   \n",
       "1                X3                    New      2012-04-17               N   \n",
       "2          5 Series                    New      2015-08-27               F   \n",
       "3          3 Series                    New      2012-11-05               F   \n",
       "4                X3                   Used      2011-12-30               F   \n",
       "\n",
       "   customerpay_a_sum  customerpay_a_count  customerpay_a_mean  \\\n",
       "0                0.0                  0.0                 0.0   \n",
       "1                0.0                  0.0                 0.0   \n",
       "2                0.0                  0.0                 0.0   \n",
       "3                0.0                  0.0                 0.0   \n",
       "4                0.0                  0.0                 0.0   \n",
       "\n",
       "   warrantypay_a_sum  warrantypay_a_count  servicetime_sum  servicetime_mean  \\\n",
       "0                0.0                  0.0              0.0               0.0   \n",
       "1                0.0                  0.0              0.0               0.0   \n",
       "2                0.0                  0.0              0.0               0.0   \n",
       "3                0.0                  0.0              0.0               0.0   \n",
       "4                0.0                  0.0              0.0               0.0   \n",
       "\n",
       "   dayssincelastservice_mean  mileage_since_last    lastservicedate_y  \\\n",
       "0                        0.0                 0.0  2019-06-10 04:00:00   \n",
       "1                        0.0                 0.0  2012-04-17 04:00:00   \n",
       "2                        0.0                 0.0  2018-04-13 04:00:00   \n",
       "3                        0.0                 0.0  2018-10-05 04:00:00   \n",
       "4                        0.0                 0.0  2018-11-26 05:00:00   \n",
       "\n",
       "     originalrdrdate_y      inservicedate_y originalpreowneddate_y  \\\n",
       "0  2012-06-13 04:00:00  2012-06-12 04:00:00    2016-03-07 05:00:00   \n",
       "1  2004-06-18 04:00:00  2004-06-18 04:00:00    1900-01-01 05:00:00   \n",
       "2  2012-04-28 04:00:00  2012-04-26 04:00:00    1900-01-01 05:00:00   \n",
       "3  2009-12-22 05:00:00  2009-12-11 05:00:00    1900-01-01 05:00:00   \n",
       "4  2009-11-26 05:00:00  2009-11-26 05:00:00    2011-12-28 05:00:00   \n",
       "\n",
       "   odometerreading_y  modelyear_y  productname_ins_count  term_ins_max  \\\n",
       "0             188088         2012                    1.0          48.0   \n",
       "1             194122         2004                    0.0           0.0   \n",
       "2             103955         2012                    1.0          39.0   \n",
       "3             114828         2010                    0.0           0.0   \n",
       "4             170536         2010                    0.0           0.0   \n",
       "\n",
       "   terminated_wholesaledealername_h province_1               age_of_car_days  \\\n",
       "0  6b46b289d11a05aa88149b63da3b6d51         QC  1328 days 20:00:00.000000000   \n",
       "1  5be591c8b84ea2488b36ea75447688b0         ON  2859 days 20:00:00.000000000   \n",
       "2  6b46b289d11a05aa88149b63da3b6d51         ON  1215 days 20:00:00.000000000   \n",
       "3  501228c961f307861d67c799a3c923d0         NS  1048 days 19:00:00.000000000   \n",
       "4  e27a67b87ad41777fbf3546d7c3d84af         BC   763 days 19:00:00.000000000   \n",
       "\n",
       "   tenure  \n",
       "0       3  \n",
       "1       1  \n",
       "2      20  \n",
       "3      15  \n",
       "4       3  "
      ]
     },
     "execution_count": 6,
     "metadata": {},
     "output_type": "execute_result"
    }
   ],
   "source": [
    "df = clean_data.copy()\n",
    "df.head()"
   ]
  },
  {
   "cell_type": "code",
   "execution_count": 7,
   "metadata": {},
   "outputs": [
    {
     "data": {
      "text/plain": [
       "Loyalty                             0\n",
       "city                                0\n",
       "postal                              0\n",
       "age                                 0\n",
       "numberhistoricbmw                   0\n",
       "terminated_vehicle_type             0\n",
       "terminated_certifiedpreownedflag    0\n",
       "terminated_model                    0\n",
       "terminated_series                   0\n",
       "terminated_used_or_new              0\n",
       "terminationdate                     0\n",
       "terminationtype                     0\n",
       "customerpay_a_sum                   0\n",
       "customerpay_a_count                 0\n",
       "customerpay_a_mean                  0\n",
       "warrantypay_a_sum                   0\n",
       "warrantypay_a_count                 0\n",
       "servicetime_sum                     0\n",
       "servicetime_mean                    0\n",
       "dayssincelastservice_mean           0\n",
       "mileage_since_last                  0\n",
       "lastservicedate_y                   0\n",
       "originalrdrdate_y                   0\n",
       "inservicedate_y                     0\n",
       "originalpreowneddate_y              0\n",
       "odometerreading_y                   0\n",
       "modelyear_y                         0\n",
       "productname_ins_count               0\n",
       "term_ins_max                        0\n",
       "terminated_wholesaledealername_h    0\n",
       "province_1                          0\n",
       "age_of_car_days                     0\n",
       "tenure                              0\n",
       "dtype: int64"
      ]
     },
     "execution_count": 7,
     "metadata": {},
     "output_type": "execute_result"
    }
   ],
   "source": [
    "# Check missing value\n",
    "df.isnull().sum()"
   ]
  },
  {
   "cell_type": "code",
   "execution_count": 8,
   "metadata": {},
   "outputs": [
    {
     "data": {
      "text/plain": [
       "1.0    9157\n",
       "0.0    3663\n",
       "Name: Loyalty, dtype: int64"
      ]
     },
     "execution_count": 8,
     "metadata": {},
     "output_type": "execute_result"
    }
   ],
   "source": [
    "# target(Loyalty) distribution\n",
    "l = df[\"Loyalty\"].value_counts()\n",
    "l   "
   ]
  },
  {
   "cell_type": "code",
   "execution_count": 9,
   "metadata": {},
   "outputs": [
    {
     "name": "stdout",
     "output_type": "stream",
     "text": [
      "precentage of loyal customer in the dataset is 71.43\n"
     ]
    }
   ],
   "source": [
    "loyalty_pct = l[1]/len(df) *100\n",
    "print (f\"precentage of loyal customer in the dataset is {loyalty_pct:.2f}\")"
   ]
  },
  {
   "cell_type": "markdown",
   "metadata": {},
   "source": [
    "### Data Viualization"
   ]
  },
  {
   "cell_type": "code",
   "execution_count": 10,
   "metadata": {},
   "outputs": [
    {
     "data": {
      "text/plain": [
       "Text(0.5, 0, 'Province')"
      ]
     },
     "execution_count": 10,
     "metadata": {},
     "output_type": "execute_result"
    },
    {
     "data": {
      "image/png": "[encoded data removed]",
      "text/plain": [
       "<Figure size 504x360 with 1 Axes>"
      ]
     },
     "metadata": {
      "needs_background": "light"
     },
     "output_type": "display_data"
    }
   ],
   "source": [
    "plt.figure(figsize=(7,5))\n",
    "ax = sns.countplot(x=\"province_1\", data=df)\n",
    "plt.title('Distribution of BMW sales')\n",
    "plt.xlabel('Province')"
   ]
  },
  {
   "cell_type": "code",
   "execution_count": 11,
   "metadata": {},
   "outputs": [
    {
     "data": {
      "image/png": "[encoded data removed]",
      "text/plain": [
       "<Figure size 720x288 with 1 Axes>"
      ]
     },
     "metadata": {
      "needs_background": "light"
     },
     "output_type": "display_data"
    }
   ],
   "source": [
    "plt.figure(figsize=(10,4))\n",
    "ax = sns.countplot(x=\"city\", data=df , order=df.city.value_counts().iloc[:10].index)\n",
    "plt.title('Distribution of BMW sales')\n",
    "plt.xlabel('city')\n",
    "plt.show()"
   ]
  },
  {
   "cell_type": "code",
   "execution_count": 12,
   "metadata": {},
   "outputs": [],
   "source": [
    "# c = df.groupby('city').count().sort_values(by = 'Loyalty' , ascending = False)\n",
    "# c = c[\"Loyalty\"]\n",
    "# s = sum(c[:200]) / len(df)\n",
    "# print(s)"
   ]
  },
  {
   "cell_type": "code",
   "execution_count": 13,
   "metadata": {},
   "outputs": [
    {
     "data": {
      "text/plain": [
       "<matplotlib.axes._subplots.AxesSubplot at 0x7f3acde7a2b0>"
      ]
     },
     "execution_count": 13,
     "metadata": {},
     "output_type": "execute_result"
    },
    {
     "data": {
      "image/png": "[encoded data removed]",
      "text/plain": [
       "<Figure size 432x288 with 1 Axes>"
      ]
     },
     "metadata": {
      "needs_background": "light"
     },
     "output_type": "display_data"
    }
   ],
   "source": [
    "sns.distplot(df[\"age\"], bins = 20 , kde = False)"
   ]
  },
  {
   "cell_type": "code",
   "execution_count": 14,
   "metadata": {},
   "outputs": [
    {
     "name": "stdout",
     "output_type": "stream",
     "text": [
      "Number of wrong entries in age: 1218\n",
      "There are 147 customers with age less than 18\n"
     ]
    }
   ],
   "source": [
    "#There are wrong entries in age \n",
    "print(f\"Number of wrong entries in age: {len(df[df.age == 119])}\")\n",
    "\n",
    "print(f\"There are {len(df[df.age < 18])} customers with age less than 18\") #keep them for now\n",
    "\n",
    "#replace age = 119 with median age: 51 - 1218 records changed\n",
    "df[\"age\"] = np.where(df.age == 119 , np.median(df.age), df.age)"
   ]
  },
  {
   "cell_type": "markdown",
   "metadata": {},
   "source": [
    "### Feature Engineering"
   ]
  },
  {
   "cell_type": "code",
   "execution_count": 15,
   "metadata": {},
   "outputs": [
    {
     "data": {
      "text/plain": [
       "50-60    4207\n",
       "40-50    3086\n",
       "30-40    2155\n",
       "60-70    1663\n",
       "20-30     980\n",
       "70+       552\n",
       "0-20      177\n",
       "Name: age_binned, dtype: int64"
      ]
     },
     "execution_count": 15,
     "metadata": {},
     "output_type": "execute_result"
    }
   ],
   "source": [
    "bins = [0, 20, 30, 40, 50, 60 , 70, 100]\n",
    "labels = [\"0-20\",\"20-30\",\"30-40\",\"40-50\",\"50-60\",\"60-70\",\"70+\"]\n",
    "df['age_binned'] = pd.cut(df['age'], bins=bins, labels=labels) #\n",
    "df['age_binned'].value_counts()"
   ]
  },
  {
   "cell_type": "code",
   "execution_count": 16,
   "metadata": {},
   "outputs": [
    {
     "data": {
      "image/png": "[encoded data removed]",
      "text/plain": [
       "<Figure size 483.875x216 with 1 Axes>"
      ]
     },
     "metadata": {
      "needs_background": "light"
     },
     "output_type": "display_data"
    }
   ],
   "source": [
    "ax = sns.catplot(\"age_binned\",data=df,hue=\"Loyalty\", palette=\"coolwarm\", kind=\"count\",  height=3, aspect=2)\n",
    "plt.xlabel('age category')\n",
    "plt.show()"
   ]
  },
  {
   "cell_type": "code",
   "execution_count": 17,
   "metadata": {},
   "outputs": [],
   "source": [
    "#df.drop(\"age_binned\" , axis = 1 , inplace= True)"
   ]
  },
  {
   "cell_type": "code",
   "execution_count": 18,
   "metadata": {},
   "outputs": [
    {
     "data": {
      "image/png": "[encoded data removed]",
      "text/plain": [
       "<Figure size 720x288 with 1 Axes>"
      ]
     },
     "metadata": {
      "needs_background": "light"
     },
     "output_type": "display_data"
    }
   ],
   "source": [
    "# Top 10 popular BMW Models\n",
    "plt.figure(figsize=(10,4))\n",
    "ax = sns.countplot(x=\"terminated_model\", data=df , order=df.terminated_model.value_counts().iloc[:10].index)\n",
    "plt.title('terminated_model')\n",
    "plt.xlabel('model')\n",
    "plt.show()"
   ]
  },
  {
   "cell_type": "code",
   "execution_count": 19,
   "metadata": {},
   "outputs": [
    {
     "data": {
      "image/png": "[encoded data removed]",
      "text/plain": [
       "<Figure size 1851.88x360 with 1 Axes>"
      ]
     },
     "metadata": {
      "needs_background": "light"
     },
     "output_type": "display_data"
    }
   ],
   "source": [
    "sns.catplot(\"terminated_model\",data=df,hue=\"Loyalty\", palette=\"coolwarm\", kind=\"count\", order=df.terminated_model.value_counts().iloc[:20].index, height=5, # make the plot 5 units high\n",
    "    aspect=5)\n",
    "plt.xlabel('model')\n",
    "plt.show()"
   ]
  },
  {
   "cell_type": "code",
   "execution_count": 20,
   "metadata": {},
   "outputs": [
    {
     "data": {
      "image/png": "[encoded data removed]",
      "text/plain": [
       "<Figure size 1491.88x360 with 1 Axes>"
      ]
     },
     "metadata": {
      "needs_background": "light"
     },
     "output_type": "display_data"
    }
   ],
   "source": [
    "sns.catplot(\"terminated_series\",data=df,hue=\"Loyalty\", palette=\"coolwarm\", kind=\"count\", order=df.terminated_series.value_counts().iloc[:15].index, height=5, # make the plot 5 units high\n",
    "    aspect=4)\n",
    "plt.xlabel('Series')\n",
    "plt.show()"
   ]
  },
  {
   "cell_type": "code",
   "execution_count": 21,
   "metadata": {},
   "outputs": [
    {
     "data": {
      "image/png": "[encoded data removed]",
      "text/plain": [
       "<Figure size 411.875x360 with 1 Axes>"
      ]
     },
     "metadata": {
      "needs_background": "light"
     },
     "output_type": "display_data"
    }
   ],
   "source": [
    "sns.catplot(\"terminated_used_or_new\",data=df,hue=\"Loyalty\", palette=\"coolwarm\", kind=\"count\")\n",
    "plt.show()"
   ]
  },
  {
   "cell_type": "code",
   "execution_count": 22,
   "metadata": {},
   "outputs": [
    {
     "data": {
      "text/plain": [
       "Loyalty                      1.000000\n",
       "modelyear_y                  0.437765\n",
       "productname_ins_count        0.255657\n",
       "term_ins_max                 0.254221\n",
       "age                         -0.045665\n",
       "servicetime_mean            -0.062146\n",
       "servicetime_sum             -0.098667\n",
       "warrantypay_a_sum           -0.104673\n",
       "customerpay_a_mean          -0.132544\n",
       "dayssincelastservice_mean   -0.133893\n",
       "customerpay_a_sum           -0.142361\n",
       "mileage_since_last          -0.177560\n",
       "warrantypay_a_count         -0.211886\n",
       "customerpay_a_count         -0.211886\n",
       "tenure                      -0.235207\n",
       "numberhistoricbmw           -0.267973\n",
       "odometerreading_y           -0.306004\n",
       "Name: Loyalty, dtype: float64"
      ]
     },
     "execution_count": 22,
     "metadata": {},
     "output_type": "execute_result"
    }
   ],
   "source": [
    "#Corrolation of numeric features\n",
    "\n",
    "corr_matrix = df.corr()\n",
    "corr_matrix[\"Loyalty\"].sort_values(ascending=False)"
   ]
  },
  {
   "cell_type": "code",
   "execution_count": 23,
   "metadata": {},
   "outputs": [
    {
     "data": {
      "image/png": "[encoded data removed]",
      "text/plain": [
       "<Figure size 720x720 with 2 Axes>"
      ]
     },
     "metadata": {
      "needs_background": "light"
     },
     "output_type": "display_data"
    }
   ],
   "source": [
    "plt.figure(figsize= (10,10))\n",
    "sns.heatmap(abs(corr_matrix), \n",
    "            xticklabels=corr_matrix.columns.values,\n",
    "            yticklabels=corr_matrix.columns.values,\n",
    "            cmap= \"bone\")\n",
    "plt.show()"
   ]
  },
  {
   "cell_type": "markdown",
   "metadata": {},
   "source": [
    "### Construct Hypothesis Tests"
   ]
  },
  {
   "cell_type": "code",
   "execution_count": 24,
   "metadata": {},
   "outputs": [],
   "source": [
    "#1. pay / warranty /Major defect"
   ]
  },
  {
   "cell_type": "code",
   "execution_count": 25,
   "metadata": {},
   "outputs": [
    {
     "data": {
      "text/plain": [
       "946"
      ]
     },
     "execution_count": 25,
     "metadata": {},
     "output_type": "execute_result"
    }
   ],
   "source": [
    "customer_who_pay = df[ (df.customerpay_a_sum > 0) ]\n",
    "len(customer_who_pay)"
   ]
  },
  {
   "cell_type": "code",
   "execution_count": 26,
   "metadata": {},
   "outputs": [
    {
     "data": {
      "text/plain": [
       "0.7142745709828393"
      ]
     },
     "execution_count": 26,
     "metadata": {},
     "output_type": "execute_result"
    }
   ],
   "source": [
    "df['Loyalty'].mean()"
   ]
  },
  {
   "cell_type": "code",
   "execution_count": 27,
   "metadata": {},
   "outputs": [
    {
     "data": {
      "text/plain": [
       "0.386892177589852"
      ]
     },
     "execution_count": 27,
     "metadata": {},
     "output_type": "execute_result"
    }
   ],
   "source": [
    "customer_who_pay['Loyalty'].mean()"
   ]
  },
  {
   "cell_type": "code",
   "execution_count": 28,
   "metadata": {},
   "outputs": [
    {
     "data": {
      "text/plain": [
       "0.4092987804878049"
      ]
     },
     "execution_count": 28,
     "metadata": {},
     "output_type": "execute_result"
    }
   ],
   "source": [
    "customer_use_warranty = df[df.warrantypay_a_sum >0 ]\n",
    "customer_use_warranty['Loyalty'].mean()"
   ]
  },
  {
   "cell_type": "code",
   "execution_count": 29,
   "metadata": {},
   "outputs": [
    {
     "data": {
      "text/plain": [
       "1312"
      ]
     },
     "execution_count": 29,
     "metadata": {},
     "output_type": "execute_result"
    }
   ],
   "source": [
    "len(customer_use_warranty)"
   ]
  },
  {
   "cell_type": "code",
   "execution_count": 30,
   "metadata": {},
   "outputs": [
    {
     "data": {
      "text/plain": [
       "(429, 0.47785547785547783)"
      ]
     },
     "execution_count": 30,
     "metadata": {},
     "output_type": "execute_result"
    }
   ],
   "source": [
    "a = df[(df.warrantypay_a_sum >0) & (df.customerpay_a_sum == 0)]\n",
    "len(a) , a['Loyalty'].mean()"
   ]
  },
  {
   "cell_type": "code",
   "execution_count": 31,
   "metadata": {},
   "outputs": [
    {
     "data": {
      "text/plain": [
       "(883, 0.37599093997734995)"
      ]
     },
     "execution_count": 31,
     "metadata": {},
     "output_type": "execute_result"
    }
   ],
   "source": [
    "b = df[(df.warrantypay_a_sum >0) & (df.customerpay_a_sum != 0)]\n",
    "len(b) , b['Loyalty'].mean()"
   ]
  },
  {
   "cell_type": "code",
   "execution_count": 32,
   "metadata": {},
   "outputs": [
    {
     "data": {
      "text/plain": [
       "Ttest_indResult(statistic=3.5341933657628797, pvalue=0.00042325917083485353)"
      ]
     },
     "execution_count": 32,
     "metadata": {},
     "output_type": "execute_result"
    }
   ],
   "source": [
    "from scipy.stats import ttest_ind\n",
    "ttest_ind(a['Loyalty'], b['Loyalty'])"
   ]
  },
  {
   "cell_type": "markdown",
   "metadata": {},
   "source": [
    "### More Feature Enginerring"
   ]
  },
  {
   "cell_type": "code",
   "execution_count": 33,
   "metadata": {},
   "outputs": [],
   "source": [
    "df[\"Number_major_defects\"] = df [\"customerpay_a_count\"]"
   ]
  },
  {
   "cell_type": "code",
   "execution_count": 34,
   "metadata": {},
   "outputs": [
    {
     "data": {
      "text/plain": [
       "0.41564083997103546"
      ]
     },
     "execution_count": 34,
     "metadata": {},
     "output_type": "execute_result"
    }
   ],
   "source": [
    "e= df[df[\"Number_major_defects\"] > 0]\n",
    "e[\"Loyalty\"].mean()"
   ]
  },
  {
   "cell_type": "code",
   "execution_count": 35,
   "metadata": {},
   "outputs": [
    {
     "data": {
      "text/plain": [
       "Ttest_indResult(statistic=23.126235009325274, pvalue=3.495727426330122e-116)"
      ]
     },
     "execution_count": 35,
     "metadata": {},
     "output_type": "execute_result"
    }
   ],
   "source": [
    "ttest_ind(df['Loyalty'], e['Loyalty'])"
   ]
  },
  {
   "cell_type": "code",
   "execution_count": 36,
   "metadata": {},
   "outputs": [],
   "source": [
    "df[\"warranty_ratio\"] = np.where(df.warrantypay_a_sum > 0 , df.warrantypay_a_sum/ df.warrantypay_a_count , df.warrantypay_a_sum)"
   ]
  },
  {
   "cell_type": "code",
   "execution_count": 37,
   "metadata": {},
   "outputs": [],
   "source": [
    "df[\"age_of_car\"] = df[\"age_of_car_days\"].str.split(\" \").str[0].astype(\"int\")"
   ]
  },
  {
   "cell_type": "code",
   "execution_count": 38,
   "metadata": {},
   "outputs": [],
   "source": [
    "df[\"total_repair_cost\"] = df[\"customerpay_a_sum\"] + df[\"warrantypay_a_sum\"]\n",
    "df[\"major_defect\"] = np.where((df[\"Number_major_defects\"]) > 0 , 1, 0)\n",
    "df[\"customer_pay\"] = np.where(df.customerpay_a_sum > 0 , 1 , 0)"
   ]
  },
  {
   "cell_type": "code",
   "execution_count": 39,
   "metadata": {},
   "outputs": [],
   "source": [
    "df[\"cost_ratio\"] = np.where(df[\"Number_major_defects\"] >0 ,df[\"total_repair_cost\"] /df[\"Number_major_defects\"] , 0) "
   ]
  },
  {
   "cell_type": "code",
   "execution_count": 40,
   "metadata": {},
   "outputs": [
    {
     "data": {
      "image/png": "[encoded data removed]",
      "text/plain": [
       "<Figure size 411.875x360 with 1 Axes>"
      ]
     },
     "metadata": {
      "needs_background": "light"
     },
     "output_type": "display_data"
    }
   ],
   "source": [
    "sns.catplot(\"major_defect\",data=df,hue=\"Loyalty\", palette=\"coolwarm\", kind=\"count\")\n",
    "\n",
    "plt.xlabel('Major Defect')\n",
    "plt.show()"
   ]
  },
  {
   "cell_type": "code",
   "execution_count": 41,
   "metadata": {},
   "outputs": [
    {
     "data": {
      "text/html": [
       "<div>\n",
       "<style scoped>\n",
       "    .dataframe tbody tr th:only-of-type {\n",
       "        vertical-align: middle;\n",
       "    }\n",
       "\n",
       "    .dataframe tbody tr th {\n",
       "        vertical-align: top;\n",
       "    }\n",
       "\n",
       "    .dataframe thead th {\n",
       "        text-align: right;\n",
       "    }\n",
       "</style>\n",
       "<table border=\"1\" class=\"dataframe\">\n",
       "  <thead>\n",
       "    <tr style=\"text-align: right;\">\n",
       "      <th></th>\n",
       "      <th>Loyaltymean</th>\n",
       "      <th>Loyaltycount</th>\n",
       "    </tr>\n",
       "    <tr>\n",
       "      <th>major_defect</th>\n",
       "      <th></th>\n",
       "      <th></th>\n",
       "    </tr>\n",
       "  </thead>\n",
       "  <tbody>\n",
       "    <tr>\n",
       "      <th>0</th>\n",
       "      <td>0.750328</td>\n",
       "      <td>11439</td>\n",
       "    </tr>\n",
       "    <tr>\n",
       "      <th>1</th>\n",
       "      <td>0.415641</td>\n",
       "      <td>1381</td>\n",
       "    </tr>\n",
       "  </tbody>\n",
       "</table>\n",
       "</div>"
      ],
      "text/plain": [
       "              Loyaltymean  Loyaltycount\n",
       "major_defect                           \n",
       "0                0.750328         11439\n",
       "1                0.415641          1381"
      ]
     },
     "execution_count": 41,
     "metadata": {},
     "output_type": "execute_result"
    }
   ],
   "source": [
    "p= df[[\"Loyalty\", \"major_defect\"]].groupby(\"major_defect\").agg({\n",
    "    'Loyalty': ['mean','count']})\n",
    "\n",
    "p.columns = [''.join(col) for col in p.columns.values]\n",
    "p"
   ]
  },
  {
   "cell_type": "code",
   "execution_count": 42,
   "metadata": {},
   "outputs": [
    {
     "data": {
      "image/png": "[encoded data removed]",
      "text/plain": [
       "<Figure size 411.875x360 with 1 Axes>"
      ]
     },
     "metadata": {
      "needs_background": "light"
     },
     "output_type": "display_data"
    }
   ],
   "source": [
    "sns.catplot(\"customer_pay\",data=df[df[\"major_defect\"] == 1],hue=\"Loyalty\", palette=\"coolwarm\", kind=\"count\")\n",
    "\n",
    "plt.xlabel('Customer pay')\n",
    "plt.show()"
   ]
  },
  {
   "cell_type": "code",
   "execution_count": 43,
   "metadata": {},
   "outputs": [
    {
     "data": {
      "text/html": [
       "<div>\n",
       "<style scoped>\n",
       "    .dataframe tbody tr th:only-of-type {\n",
       "        vertical-align: middle;\n",
       "    }\n",
       "\n",
       "    .dataframe tbody tr th {\n",
       "        vertical-align: top;\n",
       "    }\n",
       "\n",
       "    .dataframe thead th {\n",
       "        text-align: right;\n",
       "    }\n",
       "</style>\n",
       "<table border=\"1\" class=\"dataframe\">\n",
       "  <thead>\n",
       "    <tr style=\"text-align: right;\">\n",
       "      <th></th>\n",
       "      <th>Loyaltymean</th>\n",
       "      <th>Loyaltycount</th>\n",
       "    </tr>\n",
       "    <tr>\n",
       "      <th>customer_pay</th>\n",
       "      <th></th>\n",
       "      <th></th>\n",
       "    </tr>\n",
       "  </thead>\n",
       "  <tbody>\n",
       "    <tr>\n",
       "      <th>0</th>\n",
       "      <td>0.478161</td>\n",
       "      <td>435</td>\n",
       "    </tr>\n",
       "    <tr>\n",
       "      <th>1</th>\n",
       "      <td>0.386892</td>\n",
       "      <td>946</td>\n",
       "    </tr>\n",
       "  </tbody>\n",
       "</table>\n",
       "</div>"
      ],
      "text/plain": [
       "              Loyaltymean  Loyaltycount\n",
       "customer_pay                           \n",
       "0                0.478161           435\n",
       "1                0.386892           946"
      ]
     },
     "execution_count": 43,
     "metadata": {},
     "output_type": "execute_result"
    }
   ],
   "source": [
    "f= df[df[\"major_defect\"] == 1]\n",
    "\n",
    "p = f[[\"Loyalty\", \"customer_pay\"]].groupby(\"customer_pay\").agg({\n",
    "    'Loyalty': ['mean','count']})\n",
    "\n",
    "p.columns = [''.join(col) for col in p.columns.values]\n",
    "p"
   ]
  },
  {
   "cell_type": "markdown",
   "metadata": {},
   "source": [
    "####  Dealerships Performance"
   ]
  },
  {
   "cell_type": "code",
   "execution_count": 44,
   "metadata": {},
   "outputs": [
    {
     "data": {
      "image/png": "[encoded data removed]",
      "text/plain": [
       "<Figure size 1491.88x360 with 1 Axes>"
      ]
     },
     "metadata": {
      "needs_background": "light"
     },
     "output_type": "display_data"
    }
   ],
   "source": [
    "sns.catplot(\"terminated_wholesaledealername_h\",data=df,hue=\"Loyalty\", palette=\"coolwarm\", kind=\"count\", \n",
    "            order=df.terminated_wholesaledealername_h.value_counts().iloc[:10].index, height=5, aspect=4)\n",
    "plt.xlabel('DealerShip')\n",
    "plt.show()"
   ]
  },
  {
   "cell_type": "code",
   "execution_count": 45,
   "metadata": {},
   "outputs": [],
   "source": [
    "dealership = df[[\"Loyalty\", \"terminated_wholesaledealername_h\"]].groupby('terminated_wholesaledealername_h').agg({\n",
    "    'Loyalty': ['mean','count']})\n",
    "\n",
    "dealership.columns = ['_'.join(col) for col in dealership.columns.values]"
   ]
  },
  {
   "cell_type": "code",
   "execution_count": 46,
   "metadata": {},
   "outputs": [
    {
     "data": {
      "text/plain": [
       "54"
      ]
     },
     "execution_count": 46,
     "metadata": {},
     "output_type": "execute_result"
    }
   ],
   "source": [
    "dealership = dealership.sort_values(by = 'Loyalty_mean' , ascending = False)\n",
    "len(dealership)"
   ]
  },
  {
   "cell_type": "code",
   "execution_count": 47,
   "metadata": {},
   "outputs": [
    {
     "data": {
      "text/html": [
       "<div>\n",
       "<style scoped>\n",
       "    .dataframe tbody tr th:only-of-type {\n",
       "        vertical-align: middle;\n",
       "    }\n",
       "\n",
       "    .dataframe tbody tr th {\n",
       "        vertical-align: top;\n",
       "    }\n",
       "\n",
       "    .dataframe thead th {\n",
       "        text-align: right;\n",
       "    }\n",
       "</style>\n",
       "<table border=\"1\" class=\"dataframe\">\n",
       "  <thead>\n",
       "    <tr style=\"text-align: right;\">\n",
       "      <th></th>\n",
       "      <th>Loyalty_mean</th>\n",
       "      <th>Loyalty_count</th>\n",
       "    </tr>\n",
       "    <tr>\n",
       "      <th>terminated_wholesaledealername_h</th>\n",
       "      <th></th>\n",
       "      <th></th>\n",
       "    </tr>\n",
       "  </thead>\n",
       "  <tbody>\n",
       "    <tr>\n",
       "      <th>2d5220e105bd1f44998c694de601f67c</th>\n",
       "      <td>1.000000</td>\n",
       "      <td>2</td>\n",
       "    </tr>\n",
       "    <tr>\n",
       "      <th>d37bba1bb8071213c1ff83e8394a9299</th>\n",
       "      <td>1.000000</td>\n",
       "      <td>8</td>\n",
       "    </tr>\n",
       "    <tr>\n",
       "      <th>d82a174d09fb0fc432315254c7e05076</th>\n",
       "      <td>1.000000</td>\n",
       "      <td>13</td>\n",
       "    </tr>\n",
       "    <tr>\n",
       "      <th>e471f26fc495dfd3a4981f15ca4ccbcb</th>\n",
       "      <td>0.852459</td>\n",
       "      <td>122</td>\n",
       "    </tr>\n",
       "    <tr>\n",
       "      <th>1ec9271f1ad008242ff8554301a5f0a0</th>\n",
       "      <td>0.833333</td>\n",
       "      <td>6</td>\n",
       "    </tr>\n",
       "    <tr>\n",
       "      <th>bec69a3d7f2dfd3f24302ccf38c3b7d0</th>\n",
       "      <td>0.824561</td>\n",
       "      <td>57</td>\n",
       "    </tr>\n",
       "    <tr>\n",
       "      <th>120db7df472f1bf5ec1c01da2fc2550f</th>\n",
       "      <td>0.818182</td>\n",
       "      <td>66</td>\n",
       "    </tr>\n",
       "    <tr>\n",
       "      <th>703a7ad4e74ed2329a2ade1031a80047</th>\n",
       "      <td>0.792000</td>\n",
       "      <td>125</td>\n",
       "    </tr>\n",
       "    <tr>\n",
       "      <th>b68871b6ffb4862e072b3b6a6c6cdca4</th>\n",
       "      <td>0.787402</td>\n",
       "      <td>254</td>\n",
       "    </tr>\n",
       "    <tr>\n",
       "      <th>3560473703f1cb2e5997b24072abb8c3</th>\n",
       "      <td>0.782143</td>\n",
       "      <td>280</td>\n",
       "    </tr>\n",
       "  </tbody>\n",
       "</table>\n",
       "</div>"
      ],
      "text/plain": [
       "                                  Loyalty_mean  Loyalty_count\n",
       "terminated_wholesaledealername_h                             \n",
       "2d5220e105bd1f44998c694de601f67c      1.000000              2\n",
       "d37bba1bb8071213c1ff83e8394a9299      1.000000              8\n",
       "d82a174d09fb0fc432315254c7e05076      1.000000             13\n",
       "e471f26fc495dfd3a4981f15ca4ccbcb      0.852459            122\n",
       "1ec9271f1ad008242ff8554301a5f0a0      0.833333              6\n",
       "bec69a3d7f2dfd3f24302ccf38c3b7d0      0.824561             57\n",
       "120db7df472f1bf5ec1c01da2fc2550f      0.818182             66\n",
       "703a7ad4e74ed2329a2ade1031a80047      0.792000            125\n",
       "b68871b6ffb4862e072b3b6a6c6cdca4      0.787402            254\n",
       "3560473703f1cb2e5997b24072abb8c3      0.782143            280"
      ]
     },
     "execution_count": 47,
     "metadata": {},
     "output_type": "execute_result"
    }
   ],
   "source": [
    "dealership.head(10)"
   ]
  },
  {
   "cell_type": "code",
   "execution_count": 48,
   "metadata": {},
   "outputs": [
    {
     "data": {
      "text/html": [
       "<div>\n",
       "<style scoped>\n",
       "    .dataframe tbody tr th:only-of-type {\n",
       "        vertical-align: middle;\n",
       "    }\n",
       "\n",
       "    .dataframe tbody tr th {\n",
       "        vertical-align: top;\n",
       "    }\n",
       "\n",
       "    .dataframe thead th {\n",
       "        text-align: right;\n",
       "    }\n",
       "</style>\n",
       "<table border=\"1\" class=\"dataframe\">\n",
       "  <thead>\n",
       "    <tr style=\"text-align: right;\">\n",
       "      <th></th>\n",
       "      <th>Loyalty_mean</th>\n",
       "      <th>Loyalty_count</th>\n",
       "    </tr>\n",
       "    <tr>\n",
       "      <th>terminated_wholesaledealername_h</th>\n",
       "      <th></th>\n",
       "      <th></th>\n",
       "    </tr>\n",
       "  </thead>\n",
       "  <tbody>\n",
       "    <tr>\n",
       "      <th>87953e750d07eaa74592863945b0c1aa</th>\n",
       "      <td>0.635417</td>\n",
       "      <td>96</td>\n",
       "    </tr>\n",
       "    <tr>\n",
       "      <th>a3866ab63d94d0c9de3249a50cfc8d31</th>\n",
       "      <td>0.621212</td>\n",
       "      <td>66</td>\n",
       "    </tr>\n",
       "    <tr>\n",
       "      <th>ca04326369896ce1f15316831895c34a</th>\n",
       "      <td>0.600000</td>\n",
       "      <td>75</td>\n",
       "    </tr>\n",
       "    <tr>\n",
       "      <th>b70018c95a7729d2bfea67152fef8cf1</th>\n",
       "      <td>0.532020</td>\n",
       "      <td>203</td>\n",
       "    </tr>\n",
       "    <tr>\n",
       "      <th>018b0356d9d32f5d09e4461bda12bd2e</th>\n",
       "      <td>0.500000</td>\n",
       "      <td>2</td>\n",
       "    </tr>\n",
       "    <tr>\n",
       "      <th>e3e6c8ecb84e7384b81c70aedcb506c0</th>\n",
       "      <td>0.266667</td>\n",
       "      <td>15</td>\n",
       "    </tr>\n",
       "    <tr>\n",
       "      <th>675b284f25ab2fa5536f4f7492efe834</th>\n",
       "      <td>0.217391</td>\n",
       "      <td>23</td>\n",
       "    </tr>\n",
       "    <tr>\n",
       "      <th>d17d818b256c6c66f9c8f4c7f441f8d0</th>\n",
       "      <td>0.181818</td>\n",
       "      <td>11</td>\n",
       "    </tr>\n",
       "    <tr>\n",
       "      <th>44c0abfa64511f4824446b85a213d7b8</th>\n",
       "      <td>0.181818</td>\n",
       "      <td>11</td>\n",
       "    </tr>\n",
       "    <tr>\n",
       "      <th>d1423612433f603dbb3260cf92373b53</th>\n",
       "      <td>0.000000</td>\n",
       "      <td>1</td>\n",
       "    </tr>\n",
       "  </tbody>\n",
       "</table>\n",
       "</div>"
      ],
      "text/plain": [
       "                                  Loyalty_mean  Loyalty_count\n",
       "terminated_wholesaledealername_h                             \n",
       "87953e750d07eaa74592863945b0c1aa      0.635417             96\n",
       "a3866ab63d94d0c9de3249a50cfc8d31      0.621212             66\n",
       "ca04326369896ce1f15316831895c34a      0.600000             75\n",
       "b70018c95a7729d2bfea67152fef8cf1      0.532020            203\n",
       "018b0356d9d32f5d09e4461bda12bd2e      0.500000              2\n",
       "e3e6c8ecb84e7384b81c70aedcb506c0      0.266667             15\n",
       "675b284f25ab2fa5536f4f7492efe834      0.217391             23\n",
       "d17d818b256c6c66f9c8f4c7f441f8d0      0.181818             11\n",
       "44c0abfa64511f4824446b85a213d7b8      0.181818             11\n",
       "d1423612433f603dbb3260cf92373b53      0.000000              1"
      ]
     },
     "execution_count": 48,
     "metadata": {},
     "output_type": "execute_result"
    }
   ],
   "source": [
    "dealership.tail(10)"
   ]
  },
  {
   "cell_type": "code",
   "execution_count": 49,
   "metadata": {},
   "outputs": [
    {
     "data": {
      "text/html": [
       "<div>\n",
       "<style scoped>\n",
       "    .dataframe tbody tr th:only-of-type {\n",
       "        vertical-align: middle;\n",
       "    }\n",
       "\n",
       "    .dataframe tbody tr th {\n",
       "        vertical-align: top;\n",
       "    }\n",
       "\n",
       "    .dataframe thead th {\n",
       "        text-align: right;\n",
       "    }\n",
       "</style>\n",
       "<table border=\"1\" class=\"dataframe\">\n",
       "  <thead>\n",
       "    <tr style=\"text-align: right;\">\n",
       "      <th></th>\n",
       "      <th>Loyalty</th>\n",
       "      <th>city</th>\n",
       "      <th>postal</th>\n",
       "      <th>age</th>\n",
       "      <th>numberhistoricbmw</th>\n",
       "      <th>terminated_vehicle_type</th>\n",
       "      <th>terminated_certifiedpreownedflag</th>\n",
       "      <th>terminated_model</th>\n",
       "      <th>terminated_series</th>\n",
       "      <th>terminated_used_or_new</th>\n",
       "      <th>terminationdate</th>\n",
       "      <th>terminationtype</th>\n",
       "      <th>customerpay_a_sum</th>\n",
       "      <th>customerpay_a_count</th>\n",
       "      <th>customerpay_a_mean</th>\n",
       "      <th>warrantypay_a_sum</th>\n",
       "      <th>warrantypay_a_count</th>\n",
       "      <th>servicetime_sum</th>\n",
       "      <th>servicetime_mean</th>\n",
       "      <th>dayssincelastservice_mean</th>\n",
       "      <th>mileage_since_last</th>\n",
       "      <th>lastservicedate_y</th>\n",
       "      <th>originalrdrdate_y</th>\n",
       "      <th>inservicedate_y</th>\n",
       "      <th>originalpreowneddate_y</th>\n",
       "      <th>odometerreading_y</th>\n",
       "      <th>modelyear_y</th>\n",
       "      <th>productname_ins_count</th>\n",
       "      <th>term_ins_max</th>\n",
       "      <th>terminated_wholesaledealername_h</th>\n",
       "      <th>province_1</th>\n",
       "      <th>age_of_car_days</th>\n",
       "      <th>tenure</th>\n",
       "      <th>age_binned</th>\n",
       "      <th>Number_major_defects</th>\n",
       "      <th>warranty_ratio</th>\n",
       "      <th>age_of_car</th>\n",
       "      <th>total_repair_cost</th>\n",
       "      <th>major_defect</th>\n",
       "      <th>customer_pay</th>\n",
       "      <th>cost_ratio</th>\n",
       "    </tr>\n",
       "  </thead>\n",
       "  <tbody>\n",
       "    <tr>\n",
       "      <th>51</th>\n",
       "      <td>0.0</td>\n",
       "      <td>Richmond</td>\n",
       "      <td>V7A</td>\n",
       "      <td>72.0</td>\n",
       "      <td>6</td>\n",
       "      <td>NEW</td>\n",
       "      <td>N</td>\n",
       "      <td>X5 35i</td>\n",
       "      <td>X5</td>\n",
       "      <td>New</td>\n",
       "      <td>2015-06-24</td>\n",
       "      <td>F</td>\n",
       "      <td>0.0</td>\n",
       "      <td>0.0</td>\n",
       "      <td>0.0</td>\n",
       "      <td>0.0</td>\n",
       "      <td>0.0</td>\n",
       "      <td>0.0</td>\n",
       "      <td>0.0</td>\n",
       "      <td>0.0</td>\n",
       "      <td>0.0</td>\n",
       "      <td>2019-03-15 04:00:00</td>\n",
       "      <td>2013-08-22 04:00:00</td>\n",
       "      <td>2013-08-17 04:00:00</td>\n",
       "      <td>1900-01-01 05:00:00</td>\n",
       "      <td>83330</td>\n",
       "      <td>2013</td>\n",
       "      <td>0.0</td>\n",
       "      <td>0.0</td>\n",
       "      <td>e471f26fc495dfd3a4981f15ca4ccbcb</td>\n",
       "      <td>BC</td>\n",
       "      <td>670 days 20:00:00.000000000</td>\n",
       "      <td>6</td>\n",
       "      <td>70+</td>\n",
       "      <td>0.0</td>\n",
       "      <td>0.0</td>\n",
       "      <td>670</td>\n",
       "      <td>0.0</td>\n",
       "      <td>0</td>\n",
       "      <td>0</td>\n",
       "      <td>0.0</td>\n",
       "    </tr>\n",
       "    <tr>\n",
       "      <th>327</th>\n",
       "      <td>0.0</td>\n",
       "      <td>Surrey</td>\n",
       "      <td>V3S</td>\n",
       "      <td>51.0</td>\n",
       "      <td>1</td>\n",
       "      <td>PO</td>\n",
       "      <td>N</td>\n",
       "      <td>320i Sed</td>\n",
       "      <td>3 Series</td>\n",
       "      <td>Used</td>\n",
       "      <td>2015-01-15</td>\n",
       "      <td>F</td>\n",
       "      <td>0.0</td>\n",
       "      <td>0.0</td>\n",
       "      <td>0.0</td>\n",
       "      <td>0.0</td>\n",
       "      <td>0.0</td>\n",
       "      <td>0.0</td>\n",
       "      <td>0.0</td>\n",
       "      <td>0.0</td>\n",
       "      <td>0.0</td>\n",
       "      <td>2017-09-15 04:00:00</td>\n",
       "      <td>2012-08-09 04:00:00</td>\n",
       "      <td>2012-04-30 04:00:00</td>\n",
       "      <td>1900-01-01 05:00:00</td>\n",
       "      <td>99379</td>\n",
       "      <td>2012</td>\n",
       "      <td>1.0</td>\n",
       "      <td>48.0</td>\n",
       "      <td>e471f26fc495dfd3a4981f15ca4ccbcb</td>\n",
       "      <td>BC</td>\n",
       "      <td>888 days 20:00:00.000000000</td>\n",
       "      <td>3</td>\n",
       "      <td>50-60</td>\n",
       "      <td>0.0</td>\n",
       "      <td>0.0</td>\n",
       "      <td>888</td>\n",
       "      <td>0.0</td>\n",
       "      <td>0</td>\n",
       "      <td>0</td>\n",
       "      <td>0.0</td>\n",
       "    </tr>\n",
       "    <tr>\n",
       "      <th>636</th>\n",
       "      <td>0.0</td>\n",
       "      <td>Surrey</td>\n",
       "      <td>V3X</td>\n",
       "      <td>29.0</td>\n",
       "      <td>2</td>\n",
       "      <td>NEW</td>\n",
       "      <td>N</td>\n",
       "      <td>X3 30xi</td>\n",
       "      <td>X3</td>\n",
       "      <td>New</td>\n",
       "      <td>2018-12-28</td>\n",
       "      <td>F</td>\n",
       "      <td>0.0</td>\n",
       "      <td>0.0</td>\n",
       "      <td>0.0</td>\n",
       "      <td>0.0</td>\n",
       "      <td>0.0</td>\n",
       "      <td>0.0</td>\n",
       "      <td>0.0</td>\n",
       "      <td>0.0</td>\n",
       "      <td>0.0</td>\n",
       "      <td>2019-07-22 04:00:00</td>\n",
       "      <td>2018-07-03 04:00:00</td>\n",
       "      <td>2018-07-03 04:00:00</td>\n",
       "      <td>1900-01-01 05:00:00</td>\n",
       "      <td>15691</td>\n",
       "      <td>2018</td>\n",
       "      <td>0.0</td>\n",
       "      <td>0.0</td>\n",
       "      <td>e471f26fc495dfd3a4981f15ca4ccbcb</td>\n",
       "      <td>BC</td>\n",
       "      <td>177 days 20:00:00.000000000</td>\n",
       "      <td>1</td>\n",
       "      <td>20-30</td>\n",
       "      <td>0.0</td>\n",
       "      <td>0.0</td>\n",
       "      <td>177</td>\n",
       "      <td>0.0</td>\n",
       "      <td>0</td>\n",
       "      <td>0</td>\n",
       "      <td>0.0</td>\n",
       "    </tr>\n",
       "    <tr>\n",
       "      <th>1110</th>\n",
       "      <td>0.0</td>\n",
       "      <td>White Rock</td>\n",
       "      <td>V4B</td>\n",
       "      <td>59.0</td>\n",
       "      <td>1</td>\n",
       "      <td>PO</td>\n",
       "      <td>N</td>\n",
       "      <td>X5 35i</td>\n",
       "      <td>X5</td>\n",
       "      <td>Used</td>\n",
       "      <td>2016-11-28</td>\n",
       "      <td>F</td>\n",
       "      <td>0.0</td>\n",
       "      <td>0.0</td>\n",
       "      <td>0.0</td>\n",
       "      <td>0.0</td>\n",
       "      <td>0.0</td>\n",
       "      <td>0.0</td>\n",
       "      <td>0.0</td>\n",
       "      <td>0.0</td>\n",
       "      <td>0.0</td>\n",
       "      <td>2019-02-04 05:00:00</td>\n",
       "      <td>2013-09-30 04:00:00</td>\n",
       "      <td>2013-01-18 05:00:00</td>\n",
       "      <td>1900-01-01 05:00:00</td>\n",
       "      <td>105685</td>\n",
       "      <td>2013</td>\n",
       "      <td>2.0</td>\n",
       "      <td>48.0</td>\n",
       "      <td>e471f26fc495dfd3a4981f15ca4ccbcb</td>\n",
       "      <td>BC</td>\n",
       "      <td>1154 days 20:00:00.000000000</td>\n",
       "      <td>8</td>\n",
       "      <td>50-60</td>\n",
       "      <td>0.0</td>\n",
       "      <td>0.0</td>\n",
       "      <td>1154</td>\n",
       "      <td>0.0</td>\n",
       "      <td>0</td>\n",
       "      <td>0</td>\n",
       "      <td>0.0</td>\n",
       "    </tr>\n",
       "    <tr>\n",
       "      <th>1350</th>\n",
       "      <td>0.0</td>\n",
       "      <td>Richmond</td>\n",
       "      <td>V7C</td>\n",
       "      <td>50.0</td>\n",
       "      <td>1</td>\n",
       "      <td>PO</td>\n",
       "      <td>N</td>\n",
       "      <td>X1 28i</td>\n",
       "      <td>X1</td>\n",
       "      <td>Used</td>\n",
       "      <td>2017-05-15</td>\n",
       "      <td>F</td>\n",
       "      <td>0.0</td>\n",
       "      <td>0.0</td>\n",
       "      <td>0.0</td>\n",
       "      <td>0.0</td>\n",
       "      <td>0.0</td>\n",
       "      <td>0.0</td>\n",
       "      <td>0.0</td>\n",
       "      <td>0.0</td>\n",
       "      <td>0.0</td>\n",
       "      <td>2019-06-10 04:00:00</td>\n",
       "      <td>2013-07-02 04:00:00</td>\n",
       "      <td>2013-04-01 04:00:00</td>\n",
       "      <td>1900-01-01 05:00:00</td>\n",
       "      <td>52903</td>\n",
       "      <td>2013</td>\n",
       "      <td>1.0</td>\n",
       "      <td>48.0</td>\n",
       "      <td>e471f26fc495dfd3a4981f15ca4ccbcb</td>\n",
       "      <td>BC</td>\n",
       "      <td>1412 days 20:00:00.000000000</td>\n",
       "      <td>2</td>\n",
       "      <td>40-50</td>\n",
       "      <td>0.0</td>\n",
       "      <td>0.0</td>\n",
       "      <td>1412</td>\n",
       "      <td>0.0</td>\n",
       "      <td>0</td>\n",
       "      <td>0</td>\n",
       "      <td>0.0</td>\n",
       "    </tr>\n",
       "  </tbody>\n",
       "</table>\n",
       "</div>"
      ],
      "text/plain": [
       "      Loyalty        city postal   age  numberhistoricbmw  \\\n",
       "51        0.0    Richmond    V7A  72.0                  6   \n",
       "327       0.0      Surrey    V3S  51.0                  1   \n",
       "636       0.0      Surrey    V3X  29.0                  2   \n",
       "1110      0.0  White Rock    V4B  59.0                  1   \n",
       "1350      0.0    Richmond    V7C  50.0                  1   \n",
       "\n",
       "     terminated_vehicle_type terminated_certifiedpreownedflag  \\\n",
       "51                       NEW                                N   \n",
       "327                       PO                                N   \n",
       "636                      NEW                                N   \n",
       "1110                      PO                                N   \n",
       "1350                      PO                                N   \n",
       "\n",
       "     terminated_model terminated_series terminated_used_or_new  \\\n",
       "51             X5 35i                X5                    New   \n",
       "327          320i Sed          3 Series                   Used   \n",
       "636           X3 30xi                X3                    New   \n",
       "1110           X5 35i                X5                   Used   \n",
       "1350           X1 28i                X1                   Used   \n",
       "\n",
       "     terminationdate terminationtype  customerpay_a_sum  customerpay_a_count  \\\n",
       "51        2015-06-24               F                0.0                  0.0   \n",
       "327       2015-01-15               F                0.0                  0.0   \n",
       "636       2018-12-28               F                0.0                  0.0   \n",
       "1110      2016-11-28               F                0.0                  0.0   \n",
       "1350      2017-05-15               F                0.0                  0.0   \n",
       "\n",
       "      customerpay_a_mean  warrantypay_a_sum  warrantypay_a_count  \\\n",
       "51                   0.0                0.0                  0.0   \n",
       "327                  0.0                0.0                  0.0   \n",
       "636                  0.0                0.0                  0.0   \n",
       "1110                 0.0                0.0                  0.0   \n",
       "1350                 0.0                0.0                  0.0   \n",
       "\n",
       "      servicetime_sum  servicetime_mean  dayssincelastservice_mean  \\\n",
       "51                0.0               0.0                        0.0   \n",
       "327               0.0               0.0                        0.0   \n",
       "636               0.0               0.0                        0.0   \n",
       "1110              0.0               0.0                        0.0   \n",
       "1350              0.0               0.0                        0.0   \n",
       "\n",
       "      mileage_since_last    lastservicedate_y    originalrdrdate_y  \\\n",
       "51                   0.0  2019-03-15 04:00:00  2013-08-22 04:00:00   \n",
       "327                  0.0  2017-09-15 04:00:00  2012-08-09 04:00:00   \n",
       "636                  0.0  2019-07-22 04:00:00  2018-07-03 04:00:00   \n",
       "1110                 0.0  2019-02-04 05:00:00  2013-09-30 04:00:00   \n",
       "1350                 0.0  2019-06-10 04:00:00  2013-07-02 04:00:00   \n",
       "\n",
       "          inservicedate_y originalpreowneddate_y  odometerreading_y  \\\n",
       "51    2013-08-17 04:00:00    1900-01-01 05:00:00              83330   \n",
       "327   2012-04-30 04:00:00    1900-01-01 05:00:00              99379   \n",
       "636   2018-07-03 04:00:00    1900-01-01 05:00:00              15691   \n",
       "1110  2013-01-18 05:00:00    1900-01-01 05:00:00             105685   \n",
       "1350  2013-04-01 04:00:00    1900-01-01 05:00:00              52903   \n",
       "\n",
       "      modelyear_y  productname_ins_count  term_ins_max  \\\n",
       "51           2013                    0.0           0.0   \n",
       "327          2012                    1.0          48.0   \n",
       "636          2018                    0.0           0.0   \n",
       "1110         2013                    2.0          48.0   \n",
       "1350         2013                    1.0          48.0   \n",
       "\n",
       "      terminated_wholesaledealername_h province_1  \\\n",
       "51    e471f26fc495dfd3a4981f15ca4ccbcb         BC   \n",
       "327   e471f26fc495dfd3a4981f15ca4ccbcb         BC   \n",
       "636   e471f26fc495dfd3a4981f15ca4ccbcb         BC   \n",
       "1110  e471f26fc495dfd3a4981f15ca4ccbcb         BC   \n",
       "1350  e471f26fc495dfd3a4981f15ca4ccbcb         BC   \n",
       "\n",
       "                   age_of_car_days  tenure age_binned  Number_major_defects  \\\n",
       "51     670 days 20:00:00.000000000       6        70+                   0.0   \n",
       "327    888 days 20:00:00.000000000       3      50-60                   0.0   \n",
       "636    177 days 20:00:00.000000000       1      20-30                   0.0   \n",
       "1110  1154 days 20:00:00.000000000       8      50-60                   0.0   \n",
       "1350  1412 days 20:00:00.000000000       2      40-50                   0.0   \n",
       "\n",
       "      warranty_ratio  age_of_car  total_repair_cost  major_defect  \\\n",
       "51               0.0         670                0.0             0   \n",
       "327              0.0         888                0.0             0   \n",
       "636              0.0         177                0.0             0   \n",
       "1110             0.0        1154                0.0             0   \n",
       "1350             0.0        1412                0.0             0   \n",
       "\n",
       "      customer_pay  cost_ratio  \n",
       "51               0         0.0  \n",
       "327              0         0.0  \n",
       "636              0         0.0  \n",
       "1110             0         0.0  \n",
       "1350             0         0.0  "
      ]
     },
     "execution_count": 49,
     "metadata": {},
     "output_type": "execute_result"
    }
   ],
   "source": [
    "best_dealership = df[df.terminated_wholesaledealername_h == 'e471f26fc495dfd3a4981f15ca4ccbcb']\n",
    "# Vancouver\n",
    "best_dealership.head()"
   ]
  },
  {
   "cell_type": "code",
   "execution_count": 50,
   "metadata": {},
   "outputs": [
    {
     "data": {
      "text/html": [
       "<div>\n",
       "<style scoped>\n",
       "    .dataframe tbody tr th:only-of-type {\n",
       "        vertical-align: middle;\n",
       "    }\n",
       "\n",
       "    .dataframe tbody tr th {\n",
       "        vertical-align: top;\n",
       "    }\n",
       "\n",
       "    .dataframe thead th {\n",
       "        text-align: right;\n",
       "    }\n",
       "</style>\n",
       "<table border=\"1\" class=\"dataframe\">\n",
       "  <thead>\n",
       "    <tr style=\"text-align: right;\">\n",
       "      <th></th>\n",
       "      <th>Loyalty</th>\n",
       "      <th>city</th>\n",
       "      <th>postal</th>\n",
       "      <th>age</th>\n",
       "      <th>numberhistoricbmw</th>\n",
       "      <th>terminated_vehicle_type</th>\n",
       "      <th>terminated_certifiedpreownedflag</th>\n",
       "      <th>terminated_model</th>\n",
       "      <th>terminated_series</th>\n",
       "      <th>terminated_used_or_new</th>\n",
       "      <th>terminationdate</th>\n",
       "      <th>terminationtype</th>\n",
       "      <th>customerpay_a_sum</th>\n",
       "      <th>customerpay_a_count</th>\n",
       "      <th>customerpay_a_mean</th>\n",
       "      <th>warrantypay_a_sum</th>\n",
       "      <th>warrantypay_a_count</th>\n",
       "      <th>servicetime_sum</th>\n",
       "      <th>servicetime_mean</th>\n",
       "      <th>dayssincelastservice_mean</th>\n",
       "      <th>mileage_since_last</th>\n",
       "      <th>lastservicedate_y</th>\n",
       "      <th>originalrdrdate_y</th>\n",
       "      <th>inservicedate_y</th>\n",
       "      <th>originalpreowneddate_y</th>\n",
       "      <th>odometerreading_y</th>\n",
       "      <th>modelyear_y</th>\n",
       "      <th>productname_ins_count</th>\n",
       "      <th>term_ins_max</th>\n",
       "      <th>terminated_wholesaledealername_h</th>\n",
       "      <th>province_1</th>\n",
       "      <th>age_of_car_days</th>\n",
       "      <th>tenure</th>\n",
       "      <th>age_binned</th>\n",
       "      <th>Number_major_defects</th>\n",
       "      <th>warranty_ratio</th>\n",
       "      <th>age_of_car</th>\n",
       "      <th>total_repair_cost</th>\n",
       "      <th>major_defect</th>\n",
       "      <th>customer_pay</th>\n",
       "      <th>cost_ratio</th>\n",
       "    </tr>\n",
       "  </thead>\n",
       "  <tbody>\n",
       "    <tr>\n",
       "      <th>40</th>\n",
       "      <td>0.0</td>\n",
       "      <td>Boischatel</td>\n",
       "      <td>G0A</td>\n",
       "      <td>35.0</td>\n",
       "      <td>1</td>\n",
       "      <td>NEW</td>\n",
       "      <td>N</td>\n",
       "      <td>X3 35i</td>\n",
       "      <td>X3</td>\n",
       "      <td>New</td>\n",
       "      <td>2016-07-27</td>\n",
       "      <td>N</td>\n",
       "      <td>0.0</td>\n",
       "      <td>0.0</td>\n",
       "      <td>0.0</td>\n",
       "      <td>0.0</td>\n",
       "      <td>0.0</td>\n",
       "      <td>0.0</td>\n",
       "      <td>0.0</td>\n",
       "      <td>0.0</td>\n",
       "      <td>0.0</td>\n",
       "      <td>2019-07-18 04:00:00</td>\n",
       "      <td>2013-04-29 04:00:00</td>\n",
       "      <td>2013-04-29 04:00:00</td>\n",
       "      <td>1900-01-01 05:00:00</td>\n",
       "      <td>143915</td>\n",
       "      <td>2013</td>\n",
       "      <td>1.0</td>\n",
       "      <td>48.0</td>\n",
       "      <td>b70018c95a7729d2bfea67152fef8cf1</td>\n",
       "      <td>QC</td>\n",
       "      <td>1184 days 20:00:00.000000000</td>\n",
       "      <td>9</td>\n",
       "      <td>30-40</td>\n",
       "      <td>0.0</td>\n",
       "      <td>0.0</td>\n",
       "      <td>1184</td>\n",
       "      <td>0.0</td>\n",
       "      <td>0</td>\n",
       "      <td>0</td>\n",
       "      <td>0.0</td>\n",
       "    </tr>\n",
       "    <tr>\n",
       "      <th>111</th>\n",
       "      <td>0.0</td>\n",
       "      <td>Saint-Augustin-De-Desmaures</td>\n",
       "      <td>G3A</td>\n",
       "      <td>69.0</td>\n",
       "      <td>3</td>\n",
       "      <td>CPO</td>\n",
       "      <td>Y</td>\n",
       "      <td>X3 28i</td>\n",
       "      <td>X3</td>\n",
       "      <td>New</td>\n",
       "      <td>2014-09-23</td>\n",
       "      <td>F</td>\n",
       "      <td>0.0</td>\n",
       "      <td>0.0</td>\n",
       "      <td>0.0</td>\n",
       "      <td>0.0</td>\n",
       "      <td>0.0</td>\n",
       "      <td>0.0</td>\n",
       "      <td>0.0</td>\n",
       "      <td>0.0</td>\n",
       "      <td>0.0</td>\n",
       "      <td>2017-06-13 04:00:00</td>\n",
       "      <td>2011-06-21 04:00:00</td>\n",
       "      <td>2011-06-21 04:00:00</td>\n",
       "      <td>2014-10-07 04:00:00</td>\n",
       "      <td>130645</td>\n",
       "      <td>2011</td>\n",
       "      <td>1.0</td>\n",
       "      <td>39.0</td>\n",
       "      <td>b70018c95a7729d2bfea67152fef8cf1</td>\n",
       "      <td>QC</td>\n",
       "      <td>1189 days 20:00:00.000000000</td>\n",
       "      <td>11</td>\n",
       "      <td>60-70</td>\n",
       "      <td>0.0</td>\n",
       "      <td>0.0</td>\n",
       "      <td>1189</td>\n",
       "      <td>0.0</td>\n",
       "      <td>0</td>\n",
       "      <td>0</td>\n",
       "      <td>0.0</td>\n",
       "    </tr>\n",
       "    <tr>\n",
       "      <th>128</th>\n",
       "      <td>0.0</td>\n",
       "      <td>Saint-Paul-De-L'Ile-Aux-Noix</td>\n",
       "      <td>J0J</td>\n",
       "      <td>58.0</td>\n",
       "      <td>1</td>\n",
       "      <td>NEW</td>\n",
       "      <td>N</td>\n",
       "      <td>X1 28i</td>\n",
       "      <td>X1</td>\n",
       "      <td>New</td>\n",
       "      <td>2016-11-22</td>\n",
       "      <td>N</td>\n",
       "      <td>0.0</td>\n",
       "      <td>0.0</td>\n",
       "      <td>0.0</td>\n",
       "      <td>0.0</td>\n",
       "      <td>0.0</td>\n",
       "      <td>0.0</td>\n",
       "      <td>0.0</td>\n",
       "      <td>0.0</td>\n",
       "      <td>0.0</td>\n",
       "      <td>2019-06-18 04:00:00</td>\n",
       "      <td>2013-04-01 04:00:00</td>\n",
       "      <td>2013-03-28 04:00:00</td>\n",
       "      <td>1900-01-01 05:00:00</td>\n",
       "      <td>107507</td>\n",
       "      <td>2013</td>\n",
       "      <td>0.0</td>\n",
       "      <td>0.0</td>\n",
       "      <td>b70018c95a7729d2bfea67152fef8cf1</td>\n",
       "      <td>QC</td>\n",
       "      <td>1330 days 20:00:00.000000000</td>\n",
       "      <td>1</td>\n",
       "      <td>50-60</td>\n",
       "      <td>0.0</td>\n",
       "      <td>0.0</td>\n",
       "      <td>1330</td>\n",
       "      <td>0.0</td>\n",
       "      <td>0</td>\n",
       "      <td>0</td>\n",
       "      <td>0.0</td>\n",
       "    </tr>\n",
       "    <tr>\n",
       "      <th>179</th>\n",
       "      <td>0.0</td>\n",
       "      <td>Levis</td>\n",
       "      <td>G6V</td>\n",
       "      <td>68.0</td>\n",
       "      <td>2</td>\n",
       "      <td>PO</td>\n",
       "      <td>N</td>\n",
       "      <td>128i Cab</td>\n",
       "      <td>1 Series</td>\n",
       "      <td>Used</td>\n",
       "      <td>2012-11-30</td>\n",
       "      <td>N</td>\n",
       "      <td>0.0</td>\n",
       "      <td>0.0</td>\n",
       "      <td>0.0</td>\n",
       "      <td>0.0</td>\n",
       "      <td>0.0</td>\n",
       "      <td>0.0</td>\n",
       "      <td>0.0</td>\n",
       "      <td>0.0</td>\n",
       "      <td>0.0</td>\n",
       "      <td>2018-09-13 04:00:00</td>\n",
       "      <td>2008-04-25 04:00:00</td>\n",
       "      <td>2008-04-25 04:00:00</td>\n",
       "      <td>1900-01-01 05:00:00</td>\n",
       "      <td>128448</td>\n",
       "      <td>2008</td>\n",
       "      <td>0.0</td>\n",
       "      <td>0.0</td>\n",
       "      <td>b70018c95a7729d2bfea67152fef8cf1</td>\n",
       "      <td>QC</td>\n",
       "      <td>1679 days 20:00:00.000000000</td>\n",
       "      <td>14</td>\n",
       "      <td>60-70</td>\n",
       "      <td>0.0</td>\n",
       "      <td>0.0</td>\n",
       "      <td>1679</td>\n",
       "      <td>0.0</td>\n",
       "      <td>0</td>\n",
       "      <td>0</td>\n",
       "      <td>0.0</td>\n",
       "    </tr>\n",
       "    <tr>\n",
       "      <th>279</th>\n",
       "      <td>0.0</td>\n",
       "      <td>Toronto</td>\n",
       "      <td>M4V</td>\n",
       "      <td>51.0</td>\n",
       "      <td>1</td>\n",
       "      <td>NEW</td>\n",
       "      <td>N</td>\n",
       "      <td>335xi</td>\n",
       "      <td>3 Series</td>\n",
       "      <td>New</td>\n",
       "      <td>2013-08-08</td>\n",
       "      <td>N</td>\n",
       "      <td>0.0</td>\n",
       "      <td>0.0</td>\n",
       "      <td>0.0</td>\n",
       "      <td>0.0</td>\n",
       "      <td>0.0</td>\n",
       "      <td>0.0</td>\n",
       "      <td>0.0</td>\n",
       "      <td>0.0</td>\n",
       "      <td>0.0</td>\n",
       "      <td>2018-04-16 04:00:00</td>\n",
       "      <td>2009-07-31 04:00:00</td>\n",
       "      <td>2009-08-05 04:00:00</td>\n",
       "      <td>1900-01-01 05:00:00</td>\n",
       "      <td>89438</td>\n",
       "      <td>2009</td>\n",
       "      <td>0.0</td>\n",
       "      <td>0.0</td>\n",
       "      <td>b70018c95a7729d2bfea67152fef8cf1</td>\n",
       "      <td>ON</td>\n",
       "      <td>1468 days 20:00:00.000000000</td>\n",
       "      <td>1</td>\n",
       "      <td>50-60</td>\n",
       "      <td>0.0</td>\n",
       "      <td>0.0</td>\n",
       "      <td>1468</td>\n",
       "      <td>0.0</td>\n",
       "      <td>0</td>\n",
       "      <td>0</td>\n",
       "      <td>0.0</td>\n",
       "    </tr>\n",
       "  </tbody>\n",
       "</table>\n",
       "</div>"
      ],
      "text/plain": [
       "     Loyalty                          city postal   age  numberhistoricbmw  \\\n",
       "40       0.0                    Boischatel    G0A  35.0                  1   \n",
       "111      0.0   Saint-Augustin-De-Desmaures    G3A  69.0                  3   \n",
       "128      0.0  Saint-Paul-De-L'Ile-Aux-Noix    J0J  58.0                  1   \n",
       "179      0.0                         Levis    G6V  68.0                  2   \n",
       "279      0.0                       Toronto    M4V  51.0                  1   \n",
       "\n",
       "    terminated_vehicle_type terminated_certifiedpreownedflag terminated_model  \\\n",
       "40                      NEW                                N           X3 35i   \n",
       "111                     CPO                                Y           X3 28i   \n",
       "128                     NEW                                N           X1 28i   \n",
       "179                      PO                                N         128i Cab   \n",
       "279                     NEW                                N            335xi   \n",
       "\n",
       "    terminated_series terminated_used_or_new terminationdate terminationtype  \\\n",
       "40                 X3                    New      2016-07-27               N   \n",
       "111                X3                    New      2014-09-23               F   \n",
       "128                X1                    New      2016-11-22               N   \n",
       "179          1 Series                   Used      2012-11-30               N   \n",
       "279          3 Series                    New      2013-08-08               N   \n",
       "\n",
       "     customerpay_a_sum  customerpay_a_count  customerpay_a_mean  \\\n",
       "40                 0.0                  0.0                 0.0   \n",
       "111                0.0                  0.0                 0.0   \n",
       "128                0.0                  0.0                 0.0   \n",
       "179                0.0                  0.0                 0.0   \n",
       "279                0.0                  0.0                 0.0   \n",
       "\n",
       "     warrantypay_a_sum  warrantypay_a_count  servicetime_sum  \\\n",
       "40                 0.0                  0.0              0.0   \n",
       "111                0.0                  0.0              0.0   \n",
       "128                0.0                  0.0              0.0   \n",
       "179                0.0                  0.0              0.0   \n",
       "279                0.0                  0.0              0.0   \n",
       "\n",
       "     servicetime_mean  dayssincelastservice_mean  mileage_since_last  \\\n",
       "40                0.0                        0.0                 0.0   \n",
       "111               0.0                        0.0                 0.0   \n",
       "128               0.0                        0.0                 0.0   \n",
       "179               0.0                        0.0                 0.0   \n",
       "279               0.0                        0.0                 0.0   \n",
       "\n",
       "       lastservicedate_y    originalrdrdate_y      inservicedate_y  \\\n",
       "40   2019-07-18 04:00:00  2013-04-29 04:00:00  2013-04-29 04:00:00   \n",
       "111  2017-06-13 04:00:00  2011-06-21 04:00:00  2011-06-21 04:00:00   \n",
       "128  2019-06-18 04:00:00  2013-04-01 04:00:00  2013-03-28 04:00:00   \n",
       "179  2018-09-13 04:00:00  2008-04-25 04:00:00  2008-04-25 04:00:00   \n",
       "279  2018-04-16 04:00:00  2009-07-31 04:00:00  2009-08-05 04:00:00   \n",
       "\n",
       "    originalpreowneddate_y  odometerreading_y  modelyear_y  \\\n",
       "40     1900-01-01 05:00:00             143915         2013   \n",
       "111    2014-10-07 04:00:00             130645         2011   \n",
       "128    1900-01-01 05:00:00             107507         2013   \n",
       "179    1900-01-01 05:00:00             128448         2008   \n",
       "279    1900-01-01 05:00:00              89438         2009   \n",
       "\n",
       "     productname_ins_count  term_ins_max  terminated_wholesaledealername_h  \\\n",
       "40                     1.0          48.0  b70018c95a7729d2bfea67152fef8cf1   \n",
       "111                    1.0          39.0  b70018c95a7729d2bfea67152fef8cf1   \n",
       "128                    0.0           0.0  b70018c95a7729d2bfea67152fef8cf1   \n",
       "179                    0.0           0.0  b70018c95a7729d2bfea67152fef8cf1   \n",
       "279                    0.0           0.0  b70018c95a7729d2bfea67152fef8cf1   \n",
       "\n",
       "    province_1               age_of_car_days  tenure age_binned  \\\n",
       "40          QC  1184 days 20:00:00.000000000       9      30-40   \n",
       "111         QC  1189 days 20:00:00.000000000      11      60-70   \n",
       "128         QC  1330 days 20:00:00.000000000       1      50-60   \n",
       "179         QC  1679 days 20:00:00.000000000      14      60-70   \n",
       "279         ON  1468 days 20:00:00.000000000       1      50-60   \n",
       "\n",
       "     Number_major_defects  warranty_ratio  age_of_car  total_repair_cost  \\\n",
       "40                    0.0             0.0        1184                0.0   \n",
       "111                   0.0             0.0        1189                0.0   \n",
       "128                   0.0             0.0        1330                0.0   \n",
       "179                   0.0             0.0        1679                0.0   \n",
       "279                   0.0             0.0        1468                0.0   \n",
       "\n",
       "     major_defect  customer_pay  cost_ratio  \n",
       "40              0             0         0.0  \n",
       "111             0             0         0.0  \n",
       "128             0             0         0.0  \n",
       "179             0             0         0.0  \n",
       "279             0             0         0.0  "
      ]
     },
     "execution_count": 50,
     "metadata": {},
     "output_type": "execute_result"
    }
   ],
   "source": [
    "worst_dealership = df[df.terminated_wholesaledealername_h == 'b70018c95a7729d2bfea67152fef8cf1']\n",
    "# Quebec City\n",
    "worst_dealership.head()"
   ]
  },
  {
   "cell_type": "code",
   "execution_count": 51,
   "metadata": {},
   "outputs": [
    {
     "data": {
      "text/html": [
       "<div>\n",
       "<style scoped>\n",
       "    .dataframe tbody tr th:only-of-type {\n",
       "        vertical-align: middle;\n",
       "    }\n",
       "\n",
       "    .dataframe tbody tr th {\n",
       "        vertical-align: top;\n",
       "    }\n",
       "\n",
       "    .dataframe thead th {\n",
       "        text-align: right;\n",
       "    }\n",
       "</style>\n",
       "<table border=\"1\" class=\"dataframe\">\n",
       "  <thead>\n",
       "    <tr style=\"text-align: right;\">\n",
       "      <th></th>\n",
       "      <th>Loyalty_mean</th>\n",
       "      <th>Loyalty_count</th>\n",
       "    </tr>\n",
       "    <tr>\n",
       "      <th>province_1</th>\n",
       "      <th></th>\n",
       "      <th></th>\n",
       "    </tr>\n",
       "  </thead>\n",
       "  <tbody>\n",
       "    <tr>\n",
       "      <th>AB</th>\n",
       "      <td>0.717631</td>\n",
       "      <td>726</td>\n",
       "    </tr>\n",
       "    <tr>\n",
       "      <th>BC</th>\n",
       "      <td>0.722672</td>\n",
       "      <td>2470</td>\n",
       "    </tr>\n",
       "    <tr>\n",
       "      <th>MB</th>\n",
       "      <td>0.777778</td>\n",
       "      <td>144</td>\n",
       "    </tr>\n",
       "    <tr>\n",
       "      <th>NB</th>\n",
       "      <td>0.759494</td>\n",
       "      <td>79</td>\n",
       "    </tr>\n",
       "    <tr>\n",
       "      <th>NL</th>\n",
       "      <td>0.784810</td>\n",
       "      <td>79</td>\n",
       "    </tr>\n",
       "    <tr>\n",
       "      <th>NS</th>\n",
       "      <td>0.636364</td>\n",
       "      <td>77</td>\n",
       "    </tr>\n",
       "    <tr>\n",
       "      <th>ON</th>\n",
       "      <td>0.714855</td>\n",
       "      <td>5776</td>\n",
       "    </tr>\n",
       "    <tr>\n",
       "      <th>Others</th>\n",
       "      <td>0.646154</td>\n",
       "      <td>65</td>\n",
       "    </tr>\n",
       "    <tr>\n",
       "      <th>PE</th>\n",
       "      <td>0.666667</td>\n",
       "      <td>9</td>\n",
       "    </tr>\n",
       "    <tr>\n",
       "      <th>QC</th>\n",
       "      <td>0.702429</td>\n",
       "      <td>3253</td>\n",
       "    </tr>\n",
       "    <tr>\n",
       "      <th>SK</th>\n",
       "      <td>0.746479</td>\n",
       "      <td>142</td>\n",
       "    </tr>\n",
       "  </tbody>\n",
       "</table>\n",
       "</div>"
      ],
      "text/plain": [
       "            Loyalty_mean  Loyalty_count\n",
       "province_1                             \n",
       "AB              0.717631            726\n",
       "BC              0.722672           2470\n",
       "MB              0.777778            144\n",
       "NB              0.759494             79\n",
       "NL              0.784810             79\n",
       "NS              0.636364             77\n",
       "ON              0.714855           5776\n",
       "Others          0.646154             65\n",
       "PE              0.666667              9\n",
       "QC              0.702429           3253\n",
       "SK              0.746479            142"
      ]
     },
     "execution_count": 51,
     "metadata": {},
     "output_type": "execute_result"
    }
   ],
   "source": [
    "#Province and Loyalty:\n",
    "pr = df[[\"Loyalty\", \"province_1\"]].groupby(\"province_1\").agg({\n",
    "    'Loyalty': ['mean','count']})\n",
    "\n",
    "pr.columns = ['_'.join(col) for col in pr.columns.values]\n",
    "pr"
   ]
  },
  {
   "cell_type": "code",
   "execution_count": 52,
   "metadata": {},
   "outputs": [
    {
     "data": {
      "image/png": "[encoded data removed]",
      "text/plain": [
       "<Figure size 576x576 with 1 Axes>"
      ]
     },
     "metadata": {},
     "output_type": "display_data"
    }
   ],
   "source": [
    "sns.set()\n",
    "pr[\"Loyalty_mean\"].plot(kind = \"bar\",figsize=(8,8) )\n",
    "\n",
    "for i, v in enumerate(pr[\"Loyalty_mean\"].values):\n",
    "    v = np.around(v, decimals= 2)\n",
    "                                            \n",
    "    plt.text(i -0.2, v+ 0.01,  str(v), color='blue', fontweight='bold')\n",
    "plt.ylabel(\"Loyalty\")\n",
    "plt.xlabel(\"Province\")\n",
    "plt.show()"
   ]
  },
  {
   "cell_type": "code",
   "execution_count": null,
   "metadata": {},
   "outputs": [],
   "source": []
  },
  {
   "cell_type": "code",
   "execution_count": 53,
   "metadata": {},
   "outputs": [
    {
     "data": {
      "text/html": [
       "<div>\n",
       "<style scoped>\n",
       "    .dataframe tbody tr th:only-of-type {\n",
       "        vertical-align: middle;\n",
       "    }\n",
       "\n",
       "    .dataframe tbody tr th {\n",
       "        vertical-align: top;\n",
       "    }\n",
       "\n",
       "    .dataframe thead th {\n",
       "        text-align: right;\n",
       "    }\n",
       "</style>\n",
       "<table border=\"1\" class=\"dataframe\">\n",
       "  <thead>\n",
       "    <tr style=\"text-align: right;\">\n",
       "      <th></th>\n",
       "      <th>Loyalty_mean</th>\n",
       "      <th>Loyalty_count</th>\n",
       "    </tr>\n",
       "    <tr>\n",
       "      <th>numberhistoricbmw</th>\n",
       "      <th></th>\n",
       "      <th></th>\n",
       "    </tr>\n",
       "  </thead>\n",
       "  <tbody>\n",
       "    <tr>\n",
       "      <th>0</th>\n",
       "      <td>0.880597</td>\n",
       "      <td>67</td>\n",
       "    </tr>\n",
       "    <tr>\n",
       "      <th>1</th>\n",
       "      <td>0.780218</td>\n",
       "      <td>10292</td>\n",
       "    </tr>\n",
       "    <tr>\n",
       "      <th>2</th>\n",
       "      <td>0.481132</td>\n",
       "      <td>1590</td>\n",
       "    </tr>\n",
       "    <tr>\n",
       "      <th>3</th>\n",
       "      <td>0.362851</td>\n",
       "      <td>463</td>\n",
       "    </tr>\n",
       "    <tr>\n",
       "      <th>4</th>\n",
       "      <td>0.394872</td>\n",
       "      <td>195</td>\n",
       "    </tr>\n",
       "    <tr>\n",
       "      <th>5</th>\n",
       "      <td>0.343137</td>\n",
       "      <td>102</td>\n",
       "    </tr>\n",
       "    <tr>\n",
       "      <th>6</th>\n",
       "      <td>0.195652</td>\n",
       "      <td>46</td>\n",
       "    </tr>\n",
       "    <tr>\n",
       "      <th>7</th>\n",
       "      <td>0.322581</td>\n",
       "      <td>31</td>\n",
       "    </tr>\n",
       "    <tr>\n",
       "      <th>8</th>\n",
       "      <td>0.050000</td>\n",
       "      <td>20</td>\n",
       "    </tr>\n",
       "    <tr>\n",
       "      <th>9</th>\n",
       "      <td>0.200000</td>\n",
       "      <td>5</td>\n",
       "    </tr>\n",
       "    <tr>\n",
       "      <th>10</th>\n",
       "      <td>0.000000</td>\n",
       "      <td>1</td>\n",
       "    </tr>\n",
       "    <tr>\n",
       "      <th>11</th>\n",
       "      <td>0.000000</td>\n",
       "      <td>1</td>\n",
       "    </tr>\n",
       "    <tr>\n",
       "      <th>12</th>\n",
       "      <td>0.333333</td>\n",
       "      <td>3</td>\n",
       "    </tr>\n",
       "    <tr>\n",
       "      <th>13</th>\n",
       "      <td>1.000000</td>\n",
       "      <td>1</td>\n",
       "    </tr>\n",
       "    <tr>\n",
       "      <th>14</th>\n",
       "      <td>0.000000</td>\n",
       "      <td>1</td>\n",
       "    </tr>\n",
       "    <tr>\n",
       "      <th>15</th>\n",
       "      <td>0.000000</td>\n",
       "      <td>1</td>\n",
       "    </tr>\n",
       "    <tr>\n",
       "      <th>20</th>\n",
       "      <td>0.000000</td>\n",
       "      <td>1</td>\n",
       "    </tr>\n",
       "  </tbody>\n",
       "</table>\n",
       "</div>"
      ],
      "text/plain": [
       "                   Loyalty_mean  Loyalty_count\n",
       "numberhistoricbmw                             \n",
       "0                      0.880597             67\n",
       "1                      0.780218          10292\n",
       "2                      0.481132           1590\n",
       "3                      0.362851            463\n",
       "4                      0.394872            195\n",
       "5                      0.343137            102\n",
       "6                      0.195652             46\n",
       "7                      0.322581             31\n",
       "8                      0.050000             20\n",
       "9                      0.200000              5\n",
       "10                     0.000000              1\n",
       "11                     0.000000              1\n",
       "12                     0.333333              3\n",
       "13                     1.000000              1\n",
       "14                     0.000000              1\n",
       "15                     0.000000              1\n",
       "20                     0.000000              1"
      ]
     },
     "execution_count": 53,
     "metadata": {},
     "output_type": "execute_result"
    }
   ],
   "source": [
    "#Number of historical cars vs Loyalty:\n",
    "n_bmw = df[[\"Loyalty\", \"numberhistoricbmw\"]].groupby(\"numberhistoricbmw\").agg({\n",
    "    'Loyalty': ['mean','count']})\n",
    "\n",
    "n_bmw.columns = ['_'.join(col) for col in n_bmw.columns.values]\n",
    "n_bmw"
   ]
  },
  {
   "cell_type": "code",
   "execution_count": 54,
   "metadata": {},
   "outputs": [
    {
     "data": {
      "image/png": "[encoded data removed]",
      "text/plain": [
       "<Figure size 576x576 with 1 Axes>"
      ]
     },
     "metadata": {},
     "output_type": "display_data"
    }
   ],
   "source": [
    "sns.set()\n",
    "n_bmw[\"Loyalty_mean\"][1:7].plot(marker=\"o\",figsize=(8,8) )\n",
    "\n",
    "for i, v in enumerate(n_bmw[\"Loyalty_mean\"][1:7].values):\n",
    "    v = np.around(v, decimals= 2)\n",
    "                                            \n",
    "    plt.text(i +1.1, v,  str(v), color='blue', fontweight='bold')\n",
    "plt.ylabel(\"Loyalty\")\n",
    "plt.xlabel(\"Number of Historical BMW\")\n",
    "plt.show()"
   ]
  },
  {
   "cell_type": "markdown",
   "metadata": {},
   "source": [
    "### Correlation"
   ]
  },
  {
   "cell_type": "code",
   "execution_count": 55,
   "metadata": {},
   "outputs": [
    {
     "data": {
      "text/plain": [
       "Loyalty                      1.000000\n",
       "modelyear_y                  0.437765\n",
       "productname_ins_count        0.255657\n",
       "term_ins_max                 0.254221\n",
       "age                         -0.045665\n",
       "servicetime_mean            -0.062146\n",
       "warranty_ratio              -0.065694\n",
       "cost_ratio                  -0.097499\n",
       "servicetime_sum             -0.098667\n",
       "warrantypay_a_sum           -0.104673\n",
       "customerpay_a_mean          -0.132544\n",
       "dayssincelastservice_mean   -0.133893\n",
       "age_of_car                  -0.137670\n",
       "total_repair_cost           -0.139066\n",
       "customerpay_a_sum           -0.142361\n",
       "mileage_since_last          -0.177560\n",
       "customer_pay                -0.204548\n",
       "Number_major_defects        -0.211886\n",
       "warrantypay_a_count         -0.211886\n",
       "customerpay_a_count         -0.211886\n",
       "major_defect                -0.229686\n",
       "tenure                      -0.235207\n",
       "numberhistoricbmw           -0.267973\n",
       "odometerreading_y           -0.306004\n",
       "Name: Loyalty, dtype: float64"
      ]
     },
     "execution_count": 55,
     "metadata": {},
     "output_type": "execute_result"
    }
   ],
   "source": [
    "corr_matrix = df.corr()\n",
    "corr_matrix[\"Loyalty\"].sort_values(ascending=False)"
   ]
  },
  {
   "cell_type": "code",
   "execution_count": 56,
   "metadata": {},
   "outputs": [
    {
     "data": {
      "image/png": "[encoded data removed]",
      "text/plain": [
       "<Figure size 792x648 with 2 Axes>"
      ]
     },
     "metadata": {},
     "output_type": "display_data"
    }
   ],
   "source": [
    "sns.set(style=\"white\")\n",
    "\n",
    "corr_matrix = df.corr()\n",
    "# Generate a mask for the upper triangle\n",
    "mask = np.zeros_like(corr_matrix, dtype=np.bool)\n",
    "mask[np.triu_indices_from(mask)] = True\n",
    "\n",
    "# Set up the matplotlib figure\n",
    "f, ax = plt.subplots(figsize=(11, 9))\n",
    "\n",
    "# Generate a custom diverging colormap\n",
    "cmap = sns.diverging_palette(220, 10, as_cmap=True)\n",
    "\n",
    "# Draw the heatmap with the mask and correct aspect ratio\n",
    "sns.heatmap(corr_matrix, mask=mask, cmap=cmap, vmax=.6, center=0,\n",
    "            square=True, linewidths=.5, cbar_kws={\"shrink\": .5})\n",
    "plt.show()"
   ]
  },
  {
   "cell_type": "markdown",
   "metadata": {},
   "source": [
    "There are lots of highly-correlated features in the data frame, so we will drop some of them in the feature selection part."
   ]
  },
  {
   "cell_type": "code",
   "execution_count": 57,
   "metadata": {},
   "outputs": [
    {
     "data": {
      "text/plain": [
       "Index(['Loyalty', 'city', 'postal', 'age', 'numberhistoricbmw',\n",
       "       'terminated_vehicle_type', 'terminated_certifiedpreownedflag',\n",
       "       'terminated_model', 'terminated_series', 'terminated_used_or_new',\n",
       "       'terminationdate', 'terminationtype', 'customerpay_a_sum',\n",
       "       'customerpay_a_count', 'customerpay_a_mean', 'warrantypay_a_sum',\n",
       "       'warrantypay_a_count', 'servicetime_sum', 'servicetime_mean',\n",
       "       'dayssincelastservice_mean', 'mileage_since_last', 'lastservicedate_y',\n",
       "       'originalrdrdate_y', 'inservicedate_y', 'originalpreowneddate_y',\n",
       "       'odometerreading_y', 'modelyear_y', 'productname_ins_count',\n",
       "       'term_ins_max', 'terminated_wholesaledealername_h', 'province_1',\n",
       "       'age_of_car_days', 'tenure', 'age_binned', 'Number_major_defects',\n",
       "       'warranty_ratio', 'age_of_car', 'total_repair_cost', 'major_defect',\n",
       "       'customer_pay', 'cost_ratio'],\n",
       "      dtype='object')"
      ]
     },
     "execution_count": 57,
     "metadata": {},
     "output_type": "execute_result"
    }
   ],
   "source": [
    "df.columns"
   ]
  },
  {
   "cell_type": "code",
   "execution_count": 58,
   "metadata": {},
   "outputs": [],
   "source": [
    "#Drop useless features:\n",
    "df.drop( ['terminationdate', 'lastservicedate_y',\n",
    "                 'originalrdrdate_y', 'inservicedate_y','originalpreowneddate_y', \n",
    "             'age_binned', 'customerpay_a_count' , \"warrantypay_a_count\", \"age_of_car_days\",\n",
    "         'terminated_vehicle_type','terminated_certifiedpreownedflag','modelyear_y',] , axis =1 , inplace = True)"
   ]
  },
  {
   "cell_type": "markdown",
   "metadata": {},
   "source": [
    "### Split Data to Train and Test"
   ]
  },
  {
   "cell_type": "code",
   "execution_count": 59,
   "metadata": {},
   "outputs": [],
   "source": [
    "#keep 20% for the very last model testing\n",
    "\n",
    "#from sklearn.model_selection import train_test_split\n",
    "train , test = train_test_split(df, random_state = 42 , test_size = 0.2)"
   ]
  },
  {
   "cell_type": "code",
   "execution_count": 60,
   "metadata": {},
   "outputs": [
    {
     "data": {
      "text/plain": [
       "((10256, 29), (2564, 29))"
      ]
     },
     "execution_count": 60,
     "metadata": {},
     "output_type": "execute_result"
    }
   ],
   "source": [
    "train.shape , test.shape"
   ]
  },
  {
   "cell_type": "code",
   "execution_count": 61,
   "metadata": {},
   "outputs": [],
   "source": [
    "target = \"Loyalty\"\n",
    "features = list(train.columns)\n",
    "\n",
    "features = [f for f in features if f!=target]\n",
    "\n",
    "X_train = train[features].reset_index(drop=True)\n",
    "y_train = train[[target]].reset_index(drop=True)\n",
    "\n",
    "\n",
    "X_test = test[features].reset_index(drop=True)\n",
    "y_test = test[[target]].reset_index(drop=True)"
   ]
  },
  {
   "cell_type": "markdown",
   "metadata": {},
   "source": [
    "### Build a Pipeline - Data Preprocessing"
   ]
  },
  {
   "cell_type": "code",
   "execution_count": 62,
   "metadata": {},
   "outputs": [],
   "source": [
    "from sklearn.base import BaseEstimator, TransformerMixin\n",
    "\n",
    "# Create a class to select numerical or categorical columns \n",
    "class DataFrameSelector(BaseEstimator, TransformerMixin):\n",
    "    def __init__(self, attribute_names):\n",
    "        self.attribute_names = attribute_names\n",
    "    def fit(self, X, y=None):\n",
    "        return self\n",
    "    def transform(self, X):\n",
    "        return X[self.attribute_names].values"
   ]
  },
  {
   "cell_type": "code",
   "execution_count": 63,
   "metadata": {},
   "outputs": [],
   "source": [
    "# PipeLine function\n",
    "\n",
    "def FullPipeline(X = X_train , y = None, colsNotuse = None):\n",
    "    X = X.drop(colsNotuse , axis = 1)\n",
    "    \n",
    "    X_num = X.select_dtypes(include=[np.number])\n",
    "    num_attribs = list(X_num)\n",
    "\n",
    "   \n",
    "    cat_attribs = [c for c in X.columns if c not in X_num.columns] \n",
    "    \n",
    "    \n",
    "    used_features = np.concatenate((num_attribs,cat_attribs))\n",
    "    print(used_features)\n",
    "    print(\"------\"*5)\n",
    "    \n",
    "    num_pipeline = Pipeline([\n",
    "        ('selector', DataFrameSelector(num_attribs)),\n",
    "        ('Std_scaler', StandardScaler()), \n",
    "        #('norm_scaler', MinMaxScaler())\n",
    "    ])\n",
    "\n",
    "    cat_pipeline = Pipeline([\n",
    "            ('selector', DataFrameSelector(cat_attribs)),\n",
    "            ('cat_encoder', TargetEncoder()), \n",
    "        ])\n",
    "    cat_pipeline.set_params(cat_encoder__return_df = False ,cat_encoder__handle_missing=\"value\", \n",
    "                            cat_encoder__handle_unknown=\"value\" )\n",
    "\n",
    "    \n",
    "\n",
    "    \n",
    "    cat_feats =cat_pipeline.fit(X, y)\n",
    "    num_feats= num_pipeline.fit(X)\n",
    "\n",
    "\n",
    "\n",
    "    full_pipeline = FeatureUnion(transformer_list=[\n",
    "            (\"num_pipeline\", num_feats),\n",
    "            (\"cat_pipeline\", cat_feats),\n",
    "\n",
    "        ])\n",
    "\n",
    "    \n",
    "    return full_pipeline , used_features\n",
    "\n",
    "#X_transformed = full_pipeline.transform(X) -- use this code to tranform train and test dataset after calling the function\n"
   ]
  },
  {
   "cell_type": "markdown",
   "metadata": {},
   "source": [
    "### Feature Selection"
   ]
  },
  {
   "cell_type": "code",
   "execution_count": 64,
   "metadata": {},
   "outputs": [
    {
     "data": {
      "text/plain": [
       "Index(['Loyalty', 'city', 'postal', 'age', 'numberhistoricbmw',\n",
       "       'terminated_model', 'terminated_series', 'terminated_used_or_new',\n",
       "       'terminationtype', 'customerpay_a_sum', 'customerpay_a_mean',\n",
       "       'warrantypay_a_sum', 'servicetime_sum', 'servicetime_mean',\n",
       "       'dayssincelastservice_mean', 'mileage_since_last', 'odometerreading_y',\n",
       "       'productname_ins_count', 'term_ins_max',\n",
       "       'terminated_wholesaledealername_h', 'province_1', 'tenure',\n",
       "       'Number_major_defects', 'warranty_ratio', 'age_of_car',\n",
       "       'total_repair_cost', 'major_defect', 'customer_pay', 'cost_ratio'],\n",
       "      dtype='object')"
      ]
     },
     "execution_count": 64,
     "metadata": {},
     "output_type": "execute_result"
    }
   ],
   "source": [
    "df.columns"
   ]
  },
  {
   "cell_type": "code",
   "execution_count": 65,
   "metadata": {},
   "outputs": [
    {
     "name": "stdout",
     "output_type": "stream",
     "text": [
      "['age' 'numberhistoricbmw' 'customerpay_a_sum' 'customerpay_a_mean'\n",
      " 'warrantypay_a_sum' 'servicetime_sum' 'servicetime_mean'\n",
      " 'dayssincelastservice_mean' 'mileage_since_last' 'odometerreading_y'\n",
      " 'productname_ins_count' 'term_ins_max' 'tenure' 'Number_major_defects'\n",
      " 'warranty_ratio' 'age_of_car' 'total_repair_cost' 'major_defect'\n",
      " 'customer_pay' 'cost_ratio' 'city' 'postal' 'terminated_model'\n",
      " 'terminated_series' 'terminated_used_or_new' 'terminationtype'\n",
      " 'terminated_wholesaledealername_h' 'province_1']\n",
      "------------------------------\n"
     ]
    }
   ],
   "source": [
    "\n",
    "full_pipeline , used_features = FullPipeline(X = X_train , y = y_train, colsNotuse = [])\n",
    "X_train_t = full_pipeline.transform(X_train)\n",
    "#X_test_t = full_pipeline.transform(X_test)"
   ]
  },
  {
   "cell_type": "code",
   "execution_count": 66,
   "metadata": {},
   "outputs": [],
   "source": [
    "#Another method for Feature Selection that we have tried --The result was not good enough\n",
    "# Feature Selection\n",
    "# from sklearn.ensemble import ExtraTreesClassifier\n",
    "# from sklearn.feature_selection import SelectFromModel\n",
    "\n",
    "\n",
    "# clf = ExtraTreesClassifier(n_estimators=50 , class_weight= {0:0.75, 1:0.25} )\n",
    "# clf = clf.fit(X_train_t, y_train['Loyalty'].ravel())\n",
    "# clf.feature_importances_  \n",
    "\n",
    "# model = SelectFromModel(clf, prefit=True)\n",
    "# X_new = model.transform(X_train_t2)\n",
    "# X_new.shape\n",
    "\n",
    "## Then use X_new for training models  "
   ]
  },
  {
   "cell_type": "code",
   "execution_count": 67,
   "metadata": {},
   "outputs": [
    {
     "name": "stdout",
     "output_type": "stream",
     "text": [
      "                    Specs        Score\n",
      "22       terminated_model  3158.804882\n",
      "21                 postal  1159.950937\n",
      "9       odometerreading_y  1064.710158\n",
      "1       numberhistoricbmw   845.526122\n",
      "10  productname_ins_count   748.700717\n",
      "11           term_ins_max   726.239962\n",
      "12                 tenure   615.365136\n",
      "17           major_defect   585.572574\n",
      "20                   city   537.488415\n",
      "13   Number_major_defects   496.489626\n",
      "18           customer_pay   461.582714\n",
      "8      mileage_since_last   454.732099\n",
      "23      terminated_series   425.286945\n",
      "15             age_of_car   252.993324\n",
      "16      total_repair_cost   204.257321\n"
     ]
    }
   ],
   "source": [
    "#Anova\n",
    "from sklearn.feature_selection import SelectKBest , chi2, f_classif\n",
    "\n",
    "bestfeatures = SelectKBest(score_func=f_classif, k=15)\n",
    "fit = bestfeatures.fit(X_train_t,np.ravel(y_train))\n",
    "dfscores = pd.DataFrame(fit.scores_)\n",
    "dfcolumns = pd.DataFrame(used_features)\n",
    "\n",
    "#concat two dataframes for better visualization \n",
    "featureScores = pd.concat([dfcolumns,dfscores],axis=1)\n",
    "featureScores.columns = ['Specs','Score']  #naming the dataframe columns\n",
    "print(featureScores.nlargest(15,'Score'))  #print 15 best features"
   ]
  },
  {
   "cell_type": "code",
   "execution_count": 68,
   "metadata": {},
   "outputs": [
    {
     "name": "stdout",
     "output_type": "stream",
     "text": [
      "Final Features\n",
      "['odometerreading_y' 'productname_ins_count' 'tenure' 'age_of_car'\n",
      " 'total_repair_cost' 'major_defect' 'customer_pay' 'city' 'postal'\n",
      " 'terminated_model' 'terminated_series']\n",
      "------------------------------\n"
     ]
    }
   ],
   "source": [
    "feat_to_use = featureScores.nlargest(15,'Score').Specs.values\n",
    "\n",
    "#l = []\n",
    "# Decide to drop this column because they have high correlation with some other features \n",
    "# -- Different combinations were tried --\n",
    "drop_high_corr = [\"term_ins_max\" , \"Number_major_defects\" ,  \"numberhistoricbmw\", \"mileage_since_last\" ]\n",
    "\n",
    "colnotuse = [c for c in X_train.columns if c not in feat_to_use or c in drop_high_corr]\n",
    "\n",
    "\n",
    "\n",
    "print(\"Final Features\")\n",
    "full_pipeline , used_features = FullPipeline(X = X_train , y = y_train, colsNotuse = colnotuse)\n",
    "X_train_t = full_pipeline.transform(X_train)"
   ]
  },
  {
   "cell_type": "markdown",
   "metadata": {},
   "source": [
    "## Select and Build a Model"
   ]
  },
  {
   "cell_type": "code",
   "execution_count": 69,
   "metadata": {},
   "outputs": [],
   "source": [
    "def GridSearch_func(X,y, estimator, param_grid, cv=10 , scoring = 'roc_auc'):\n",
    "\n",
    "    grid_search = GridSearchCV(estimator, param_grid, cv=cv,\n",
    "                           scoring=scoring)\n",
    "    grid_search.fit(X, y)\n",
    "    print (\"best parameters: \", grid_search.best_params_)\n",
    "    #print(f\"best {scoring} score during training: \", grid_search.best_score_)\n",
    "    print(\"-------\"*10)\n",
    "    means = grid_search.cv_results_['mean_test_score']\n",
    "    stds = grid_search.cv_results_['std_test_score']\n",
    "    for mean, std, params in zip(means, stds, grid_search.cv_results_['params']):\n",
    "        print(\"%0.3f (+/-%0.03f) for %r\"\n",
    "              % (mean, std * 2, params))\n",
    "    print()\n",
    "    print(f\"mean of {scoring} scores during validation: {sum(means)/len(means):0.3f}\")\n",
    "    print(\"-------\"*10)\n",
    "    best_model = grid_search.best_estimator_\n",
    "    print (\"best_model: \", best_model)\n",
    "    \n",
    "    return best_model"
   ]
  },
  {
   "cell_type": "code",
   "execution_count": 70,
   "metadata": {},
   "outputs": [],
   "source": [
    "def metrics( clf, X_test_t = full_pipeline.transform(X_test) , y_test = y_test):\n",
    "    \n",
    "    y_pred = clf.predict(X_test_t)\n",
    "\n",
    "    cm = confusion_matrix(y_test, y_pred)\n",
    "    print(\"Confusion Matrix:\")\n",
    "    print()\n",
    "    print(cm)\n",
    "    print(\"-----\"*5)\n",
    "    \n",
    "    print(classification_report(y_test, y_pred))\n",
    "    print(\"-----\"*5)\n",
    "    \n",
    "    y_proba = clf.predict_proba(X_test_t)\n",
    "    y_scores = y_proba[:, 1]\n",
    "    auc = roc_auc_score (y_test, y_scores)\n",
    "    \n",
    "    print(f\"ROC AUC score: {auc:.4f}\")\n",
    "    print()\n",
    "    \n",
    "    f1 = f1_score(y_test, y_pred)\n",
    "    print(f\"f1 score: {f1:.4f}\")"
   ]
  },
  {
   "cell_type": "markdown",
   "metadata": {},
   "source": [
    "### 1. Random Forests"
   ]
  },
  {
   "cell_type": "code",
   "execution_count": 71,
   "metadata": {},
   "outputs": [
    {
     "name": "stdout",
     "output_type": "stream",
     "text": [
      "best parameters:  {'max_depth': 20, 'n_estimators': 600}\n",
      "----------------------------------------------------------------------\n",
      "0.908 (+/-0.011) for {'max_depth': 10, 'n_estimators': 400}\n",
      "0.908 (+/-0.010) for {'max_depth': 10, 'n_estimators': 500}\n",
      "0.908 (+/-0.010) for {'max_depth': 10, 'n_estimators': 600}\n",
      "0.913 (+/-0.012) for {'max_depth': 15, 'n_estimators': 400}\n",
      "0.913 (+/-0.012) for {'max_depth': 15, 'n_estimators': 500}\n",
      "0.913 (+/-0.012) for {'max_depth': 15, 'n_estimators': 600}\n",
      "0.913 (+/-0.013) for {'max_depth': 20, 'n_estimators': 400}\n",
      "0.913 (+/-0.013) for {'max_depth': 20, 'n_estimators': 500}\n",
      "0.914 (+/-0.013) for {'max_depth': 20, 'n_estimators': 600}\n",
      "\n",
      "mean of roc_auc scores during validation: 0.912\n",
      "----------------------------------------------------------------------\n",
      "best_model:  RandomForestClassifier(bootstrap=True, class_weight={0: 0.75, 1: 0.25},\n",
      "                       criterion='gini', max_depth=20, max_features='auto',\n",
      "                       max_leaf_nodes=None, min_impurity_decrease=0.0,\n",
      "                       min_impurity_split=None, min_samples_leaf=1,\n",
      "                       min_samples_split=2, min_weight_fraction_leaf=0.0,\n",
      "                       n_estimators=600, n_jobs=-1, oob_score=False,\n",
      "                       random_state=42, verbose=0, warm_start=False)\n"
     ]
    }
   ],
   "source": [
    "#Random Forest with Final features\n",
    "rf_clf = RandomForestClassifier(n_jobs = -1, random_state=42 , class_weight= {0:0.75, 1:0.25})\n",
    "param_grid_rf = [{'n_estimators': [ 400, 500, 600 ]  , 'max_depth' : [ 10, 15, 20] }]\n",
    "\n",
    "rf_model = GridSearch_func(X = X_train_t, y= np.ravel(y_train),\n",
    "                           estimator = rf_clf, param_grid = param_grid_rf, cv=10  , scoring = \"roc_auc\")"
   ]
  },
  {
   "cell_type": "code",
   "execution_count": 72,
   "metadata": {},
   "outputs": [
    {
     "name": "stdout",
     "output_type": "stream",
     "text": [
      "Feature ranking:\n",
      "                  Feature  importance\n",
      "0        terminated_model    0.225266\n",
      "1              age_of_car    0.170594\n",
      "2                  postal    0.138890\n",
      "3       odometerreading_y    0.137002\n",
      "4                  tenure    0.098843\n",
      "5                    city    0.080527\n",
      "6   productname_ins_count    0.051956\n",
      "7       terminated_series    0.034963\n",
      "8       total_repair_cost    0.031733\n",
      "9            major_defect    0.022627\n",
      "10           customer_pay    0.007600\n"
     ]
    },
    {
     "data": {
      "image/png": "[encoded data removed]",
      "text/plain": [
       "<Figure size 1440x360 with 1 Axes>"
      ]
     },
     "metadata": {},
     "output_type": "display_data"
    }
   ],
   "source": [
    "importances = rf_model.feature_importances_\n",
    "std = np.std([tree.feature_importances_ for tree in rf_model.estimators_],\n",
    "             axis=0)\n",
    "indices = np.argsort(importances)[::-1]\n",
    "\n",
    "\n",
    "# Print the feature ranking\n",
    "print(\"Feature ranking:\")\n",
    "\n",
    "#for f in range(X_train_t.shape[1]):\n",
    "#    print(f\"{used_features[indices[f]]} : {importances[indices[f]]: .3f}\")\n",
    "imp_df = pd.DataFrame({\"Feature\": used_features[indices] , \"importance\" : importances[indices]})\n",
    "print(imp_df)\n",
    "                       \n",
    "# Plot the feature importances of the forest - top 10\n",
    "n = min(10,len(used_features))\n",
    "plt.figure(figsize=(20,5))\n",
    "\n",
    "plt.title(\"Feature importances\")\n",
    "plt.bar(range(n), importances[indices][:n],\n",
    "       color=\"steelblue\", yerr=std[indices][:n], align=\"center\")\n",
    "plt.xticks(range(n), used_features[indices])\n",
    "\n",
    "plt.xlim([-1, n]) #X_train_t.shape[1]\n",
    "plt.show()"
   ]
  },
  {
   "cell_type": "markdown",
   "metadata": {},
   "source": [
    "#### Model performance -  Test Set"
   ]
  },
  {
   "cell_type": "code",
   "execution_count": 73,
   "metadata": {},
   "outputs": [
    {
     "name": "stdout",
     "output_type": "stream",
     "text": [
      "Random Forest Classifier\n",
      "\n",
      "Confusion Matrix:\n",
      "\n",
      "[[ 427  317]\n",
      " [ 152 1668]]\n",
      "-------------------------\n",
      "              precision    recall  f1-score   support\n",
      "\n",
      "         0.0       0.74      0.57      0.65       744\n",
      "         1.0       0.84      0.92      0.88      1820\n",
      "\n",
      "    accuracy                           0.82      2564\n",
      "   macro avg       0.79      0.75      0.76      2564\n",
      "weighted avg       0.81      0.82      0.81      2564\n",
      "\n",
      "-------------------------\n",
      "ROC AUC score: 0.8675\n",
      "\n",
      "f1 score: 0.8767\n"
     ]
    }
   ],
   "source": [
    "X_test_t = full_pipeline.transform(X_test)\n",
    "print(\"Random Forest Classifier\" )\n",
    "print()\n",
    "metrics(rf_model, X_test_t)"
   ]
  },
  {
   "cell_type": "code",
   "execution_count": 74,
   "metadata": {},
   "outputs": [],
   "source": [
    "# #Model with more Features \n",
    "\n",
    "\n",
    "\n",
    "# best parameters:  {'max_depth': 25, 'n_estimators': 400}\n",
    "# ----------------------------------------------------------------------\n",
    "# 0.920 (+/-0.012) for {'max_depth': 20, 'n_estimators': 400}\n",
    "# 0.920 (+/-0.012) for {'max_depth': 20, 'n_estimators': 500}\n",
    "# 0.920 (+/-0.013) for {'max_depth': 25, 'n_estimators': 400}\n",
    "# 0.920 (+/-0.013) for {'max_depth': 25, 'n_estimators': 500}\n",
    "\n",
    "# mean of roc_auc scores during validation: 0.920\n",
    "# ----------------------------------------------------------------------\n",
    "# best_model:  RandomForestClassifier(bootstrap=True, class_weight={0: 0.75, 1: 0.25},\n",
    "#                        criterion='gini', max_depth=25, max_features='auto',\n",
    "#                        max_leaf_nodes=None, min_impurity_decrease=0.0,\n",
    "#                        min_impurity_split=None, min_samples_leaf=1,\n",
    "#                        min_samples_split=2, min_weight_fraction_leaf=0.0,\n",
    "#                        n_estimators=400, n_jobs=-1, oob_score=False,\n",
    "#                        random_state=42, verbose=0, warm_start=False)\n",
    "\n",
    "\n",
    "\n",
    "\n",
    "# 0                   terminated_model    0.187261\n",
    "# 1                    age_of_car_days    0.118755\n",
    "# 2                             postal    0.104314\n",
    "# 3                  odometerreading_y    0.104166\n",
    "# 4                             tenure    0.084516\n",
    "# 5                               city    0.057370\n",
    "# 6                                age    0.051627\n",
    "# 7   terminated_wholesaledealername_h    0.046800\n",
    "# 8              productname_ins_count    0.039416\n",
    "# 9                       term_ins_max    0.035308\n",
    "# 10                 terminated_series    0.030371\n",
    "# 11         dayssincelastservice_mean    0.026037\n",
    "# 12                        province_1    0.021351\n",
    "# 13                   terminationtype    0.017626\n",
    "# 14                 total_repair_cost    0.016368\n",
    "# 15                      Major_defect    0.012427\n",
    "# 16           terminated_vehicle_type    0.012392\n",
    "# 17                mileage_since_last    0.009491\n",
    "# 18            terminated_used_or_new    0.008516\n",
    "# 19  terminated_certifiedpreownedflag    0.006882\n",
    "# 20                   servicetime_sum    0.004877\n",
    "# 21                      customer_pay    0.004129"
   ]
  },
  {
   "cell_type": "markdown",
   "metadata": {},
   "source": [
    "----"
   ]
  },
  {
   "cell_type": "markdown",
   "metadata": {},
   "source": [
    "### 2. Decision Tree"
   ]
  },
  {
   "cell_type": "code",
   "execution_count": 75,
   "metadata": {},
   "outputs": [
    {
     "name": "stdout",
     "output_type": "stream",
     "text": [
      "best parameters:  {'max_depth': 10, 'max_leaf_nodes': 40}\n",
      "----------------------------------------------------------------------\n",
      "0.860 (+/-0.016) for {'max_depth': 5, 'max_leaf_nodes': 20}\n",
      "0.861 (+/-0.016) for {'max_depth': 5, 'max_leaf_nodes': 30}\n",
      "0.861 (+/-0.016) for {'max_depth': 5, 'max_leaf_nodes': 40}\n",
      "0.866 (+/-0.023) for {'max_depth': 10, 'max_leaf_nodes': 20}\n",
      "0.879 (+/-0.018) for {'max_depth': 10, 'max_leaf_nodes': 30}\n",
      "0.883 (+/-0.017) for {'max_depth': 10, 'max_leaf_nodes': 40}\n",
      "0.866 (+/-0.023) for {'max_depth': 20, 'max_leaf_nodes': 20}\n",
      "0.879 (+/-0.018) for {'max_depth': 20, 'max_leaf_nodes': 30}\n",
      "0.883 (+/-0.017) for {'max_depth': 20, 'max_leaf_nodes': 40}\n",
      "\n",
      "mean of roc_auc scores during validation: 0.871\n",
      "----------------------------------------------------------------------\n",
      "best_model:  DecisionTreeClassifier(class_weight={0: 0.75, 1: 0.25}, criterion='entropy',\n",
      "                       max_depth=10, max_features=None, max_leaf_nodes=40,\n",
      "                       min_impurity_decrease=0.0, min_impurity_split=None,\n",
      "                       min_samples_leaf=1, min_samples_split=2,\n",
      "                       min_weight_fraction_leaf=0.0, presort=False,\n",
      "                       random_state=42, splitter='best')\n"
     ]
    }
   ],
   "source": [
    "dt_clf = DecisionTreeClassifier(criterion='entropy', class_weight= {0:0.75, 1:0.25}, random_state= 42 )\n",
    "\n",
    "param_grid_dt = [{ 'max_leaf_nodes' :[20, 30, 40]  , 'max_depth' : [5,  10 , 20]}]\n",
    "\n",
    "dt_model = GridSearch_func(X = X_train_t, y= np.ravel(y_train),\n",
    "                           estimator = dt_clf, param_grid = param_grid_dt, cv= 10 , scoring = 'roc_auc')"
   ]
  },
  {
   "cell_type": "code",
   "execution_count": 76,
   "metadata": {},
   "outputs": [
    {
     "data": {
      "text/plain": [
       "[('odometerreading_y', 0.03158122627649731),\n",
       " ('productname_ins_count', 0.026960393329832667),\n",
       " ('tenure', 0.04657700584537207),\n",
       " ('age_of_car', 0.21946979178674803),\n",
       " ('total_repair_cost', 0.0),\n",
       " ('major_defect', 0.09852729841376727),\n",
       " ('customer_pay', 0.0),\n",
       " ('city', 0.0),\n",
       " ('postal', 0.12952746746397878),\n",
       " ('terminated_model', 0.4473568168838038),\n",
       " ('terminated_series', 0.0)]"
      ]
     },
     "execution_count": 76,
     "metadata": {},
     "output_type": "execute_result"
    }
   ],
   "source": [
    "list(zip(used_features , dt_model.feature_importances_))"
   ]
  },
  {
   "cell_type": "code",
   "execution_count": 77,
   "metadata": {},
   "outputs": [],
   "source": [
    "import matplotlib as mpl\n",
    "import importlib\n",
    "importlib.reload(mpl); importlib.reload(plt); importlib.reload(sns)\n",
    "\n",
    "#Visualize the Desicion Tree\n",
    "from sklearn import tree\n",
    "# plt.figure(figsize= (15,15))\n",
    "# tree.plot_tree(dt_model) \n",
    "# plt.show()"
   ]
  },
  {
   "cell_type": "code",
   "execution_count": 78,
   "metadata": {},
   "outputs": [
    {
     "name": "stdout",
     "output_type": "stream",
     "text": [
      "Decision Tree Classifier\n",
      "\n",
      "Confusion Matrix:\n",
      "\n",
      "[[ 515  229]\n",
      " [ 380 1440]]\n",
      "-------------------------\n",
      "              precision    recall  f1-score   support\n",
      "\n",
      "         0.0       0.58      0.69      0.63       744\n",
      "         1.0       0.86      0.79      0.83      1820\n",
      "\n",
      "    accuracy                           0.76      2564\n",
      "   macro avg       0.72      0.74      0.73      2564\n",
      "weighted avg       0.78      0.76      0.77      2564\n",
      "\n",
      "-------------------------\n",
      "ROC AUC score: 0.8012\n",
      "\n",
      "f1 score: 0.8255\n"
     ]
    }
   ],
   "source": [
    "X_test_t = full_pipeline.transform(X_test)\n",
    "print(\"Decision Tree Classifier\" )\n",
    "print()\n",
    "metrics(dt_model, X_test_t)"
   ]
  },
  {
   "cell_type": "code",
   "execution_count": 79,
   "metadata": {},
   "outputs": [
    {
     "name": "stdout",
     "output_type": "stream",
     "text": [
      "best parameters:  {'max_depth': 3, 'max_leaf_nodes': 7}\n",
      "----------------------------------------------------------------------\n",
      "0.793 (+/-0.012) for {'max_depth': 3, 'max_leaf_nodes': 5}\n",
      "0.820 (+/-0.010) for {'max_depth': 3, 'max_leaf_nodes': 7}\n",
      "0.793 (+/-0.012) for {'max_depth': 4, 'max_leaf_nodes': 5}\n",
      "0.819 (+/-0.012) for {'max_depth': 4, 'max_leaf_nodes': 7}\n",
      "\n",
      "mean of roc_auc scores during validation: 0.806\n",
      "----------------------------------------------------------------------\n",
      "best_model:  DecisionTreeClassifier(class_weight={0: 0.75, 1: 0.25}, criterion='entropy',\n",
      "                       max_depth=3, max_features=None, max_leaf_nodes=7,\n",
      "                       min_impurity_decrease=0.0, min_impurity_split=None,\n",
      "                       min_samples_leaf=1, min_samples_split=2,\n",
      "                       min_weight_fraction_leaf=0.0, presort=False,\n",
      "                       random_state=42, splitter='best')\n"
     ]
    },
    {
     "data": {
      "image/png": "[encoded data removed]",
      "text/plain": [
       "<Figure size 1500x1500 with 1 Axes>"
      ]
     },
     "metadata": {},
     "output_type": "display_data"
    }
   ],
   "source": [
    "#Small tree - For visualization purpose\n",
    "param_grid_dt = [{ 'max_leaf_nodes' :[5, 7]  , 'max_depth' : [ 3, 4]}]\n",
    "\n",
    "dt = GridSearch_func(X = X_train_t, y= np.ravel(y_train),\n",
    "                           estimator = dt_clf, param_grid = param_grid_dt, cv= 5 , scoring = 'roc_auc')\n",
    "\n",
    "plt.figure(figsize= (15,15))\n",
    "\n",
    "#sklearn.tree.plot_tree(decision_tree, max_depth=None, feature_names=None, class_names=None, \n",
    "  #                     label=’all’, filled=False, impurity=True, node_ids=False, proportion=False, rotate=False, rounded=False, precision=3, ax=None, fontsize=None)\n",
    "tree.plot_tree(dt, feature_names = used_features, class_names = [\"DisLoyal\", \"Loyal\"], rounded = True) \n",
    "plt.show()"
   ]
  },
  {
   "cell_type": "code",
   "execution_count": 80,
   "metadata": {},
   "outputs": [
    {
     "data": {
      "text/html": [
       "<div>\n",
       "<style scoped>\n",
       "    .dataframe tbody tr th:only-of-type {\n",
       "        vertical-align: middle;\n",
       "    }\n",
       "\n",
       "    .dataframe tbody tr th {\n",
       "        vertical-align: top;\n",
       "    }\n",
       "\n",
       "    .dataframe thead th {\n",
       "        text-align: right;\n",
       "    }\n",
       "</style>\n",
       "<table border=\"1\" class=\"dataframe\">\n",
       "  <thead>\n",
       "    <tr style=\"text-align: right;\">\n",
       "      <th></th>\n",
       "      <th>Feature</th>\n",
       "      <th>Importances</th>\n",
       "    </tr>\n",
       "  </thead>\n",
       "  <tbody>\n",
       "    <tr>\n",
       "      <th>0</th>\n",
       "      <td>odometerreading_y</td>\n",
       "      <td>0.000000</td>\n",
       "    </tr>\n",
       "    <tr>\n",
       "      <th>1</th>\n",
       "      <td>productname_ins_count</td>\n",
       "      <td>0.000000</td>\n",
       "    </tr>\n",
       "    <tr>\n",
       "      <th>2</th>\n",
       "      <td>tenure</td>\n",
       "      <td>0.053743</td>\n",
       "    </tr>\n",
       "    <tr>\n",
       "      <th>3</th>\n",
       "      <td>age_of_car</td>\n",
       "      <td>0.184252</td>\n",
       "    </tr>\n",
       "    <tr>\n",
       "      <th>4</th>\n",
       "      <td>total_repair_cost</td>\n",
       "      <td>0.000000</td>\n",
       "    </tr>\n",
       "    <tr>\n",
       "      <th>5</th>\n",
       "      <td>major_defect</td>\n",
       "      <td>0.096049</td>\n",
       "    </tr>\n",
       "    <tr>\n",
       "      <th>6</th>\n",
       "      <td>customer_pay</td>\n",
       "      <td>0.000000</td>\n",
       "    </tr>\n",
       "    <tr>\n",
       "      <th>7</th>\n",
       "      <td>city</td>\n",
       "      <td>0.000000</td>\n",
       "    </tr>\n",
       "    <tr>\n",
       "      <th>8</th>\n",
       "      <td>postal</td>\n",
       "      <td>0.075076</td>\n",
       "    </tr>\n",
       "    <tr>\n",
       "      <th>9</th>\n",
       "      <td>terminated_model</td>\n",
       "      <td>0.590880</td>\n",
       "    </tr>\n",
       "    <tr>\n",
       "      <th>10</th>\n",
       "      <td>terminated_series</td>\n",
       "      <td>0.000000</td>\n",
       "    </tr>\n",
       "  </tbody>\n",
       "</table>\n",
       "</div>"
      ],
      "text/plain": [
       "                  Feature  Importances\n",
       "0       odometerreading_y     0.000000\n",
       "1   productname_ins_count     0.000000\n",
       "2                  tenure     0.053743\n",
       "3              age_of_car     0.184252\n",
       "4       total_repair_cost     0.000000\n",
       "5            major_defect     0.096049\n",
       "6            customer_pay     0.000000\n",
       "7                    city     0.000000\n",
       "8                  postal     0.075076\n",
       "9        terminated_model     0.590880\n",
       "10      terminated_series     0.000000"
      ]
     },
     "execution_count": 80,
     "metadata": {},
     "output_type": "execute_result"
    }
   ],
   "source": [
    "dt_tree = pd.DataFrame({\"Feature\" :used_features, \"Importances\": dt.feature_importances_})\n",
    "list(zip(used_features , dt.feature_importances_))\n",
    "dt_tree\n"
   ]
  },
  {
   "cell_type": "code",
   "execution_count": 81,
   "metadata": {},
   "outputs": [
    {
     "name": "stdout",
     "output_type": "stream",
     "text": [
      "small tree\n",
      "Confusion Matrix:\n",
      "\n",
      "[[ 566  178]\n",
      " [ 570 1250]]\n",
      "-------------------------\n",
      "              precision    recall  f1-score   support\n",
      "\n",
      "         0.0       0.50      0.76      0.60       744\n",
      "         1.0       0.88      0.69      0.77      1820\n",
      "\n",
      "    accuracy                           0.71      2564\n",
      "   macro avg       0.69      0.72      0.69      2564\n",
      "weighted avg       0.77      0.71      0.72      2564\n",
      "\n",
      "-------------------------\n",
      "ROC AUC score: 0.7775\n",
      "\n",
      "f1 score: 0.7697\n"
     ]
    }
   ],
   "source": [
    "X_test_t = full_pipeline.transform(X_test)\n",
    "print(\"small tree\")\n",
    "metrics(dt, X_test_t)"
   ]
  },
  {
   "cell_type": "markdown",
   "metadata": {},
   "source": [
    "### 3.KNN"
   ]
  },
  {
   "cell_type": "code",
   "execution_count": 82,
   "metadata": {},
   "outputs": [
    {
     "name": "stdout",
     "output_type": "stream",
     "text": [
      "best parameters:  {'metric': 'manhattan', 'n_neighbors': 27, 'p': 1, 'weights': 'distance'}\n",
      "----------------------------------------------------------------------\n",
      "0.888 (+/-0.016) for {'metric': 'manhattan', 'n_neighbors': 20, 'p': 1, 'weights': 'distance'}\n",
      "0.890 (+/-0.014) for {'metric': 'manhattan', 'n_neighbors': 27, 'p': 1, 'weights': 'distance'}\n",
      "0.890 (+/-0.013) for {'metric': 'manhattan', 'n_neighbors': 30, 'p': 1, 'weights': 'distance'}\n",
      "0.890 (+/-0.013) for {'metric': 'manhattan', 'n_neighbors': 35, 'p': 1, 'weights': 'distance'}\n",
      "\n",
      "mean of roc_auc scores during validation: 0.890\n",
      "----------------------------------------------------------------------\n",
      "best_model:  KNeighborsClassifier(algorithm='auto', leaf_size=30, metric='manhattan',\n",
      "                     metric_params=None, n_jobs=None, n_neighbors=27, p=1,\n",
      "                     weights='distance')\n"
     ]
    }
   ],
   "source": [
    "knn_clf = KNeighborsClassifier()\n",
    "param_grid_knn =  [{'n_neighbors': [20, 27 , 30 , 35],\n",
    "               'weights': ['distance'],\n",
    "                'metric': ['manhattan'],\n",
    "               'p': [1]\n",
    "                }]\n",
    "\n",
    "knn_model = GridSearch_func(X = X_train_t, y= np.ravel(y_train),\n",
    "                           estimator = knn_clf, param_grid = param_grid_knn, cv=10  , scoring = 'roc_auc')"
   ]
  },
  {
   "cell_type": "code",
   "execution_count": 83,
   "metadata": {},
   "outputs": [
    {
     "name": "stdout",
     "output_type": "stream",
     "text": [
      "KNN Classifier\n",
      "\n",
      "Confusion Matrix:\n",
      "\n",
      "[[ 398  346]\n",
      " [ 109 1711]]\n",
      "-------------------------\n",
      "              precision    recall  f1-score   support\n",
      "\n",
      "         0.0       0.79      0.53      0.64       744\n",
      "         1.0       0.83      0.94      0.88      1820\n",
      "\n",
      "    accuracy                           0.82      2564\n",
      "   macro avg       0.81      0.74      0.76      2564\n",
      "weighted avg       0.82      0.82      0.81      2564\n",
      "\n",
      "-------------------------\n",
      "ROC AUC score: 0.8733\n",
      "\n",
      "f1 score: 0.8826\n"
     ]
    }
   ],
   "source": [
    "#X_test_t = full_pipeline.transform(X_test)\n",
    "\n",
    "print(\"KNN Classifier\" )\n",
    "print()\n",
    "metrics(knn_model, X_test_t)"
   ]
  },
  {
   "cell_type": "markdown",
   "metadata": {},
   "source": [
    "### 4.SVM"
   ]
  },
  {
   "cell_type": "code",
   "execution_count": 84,
   "metadata": {},
   "outputs": [
    {
     "name": "stdout",
     "output_type": "stream",
     "text": [
      "best parameters:  {'C': 1, 'kernel': 'rbf'}\n",
      "----------------------------------------------------------------------\n",
      "0.889 (+/-0.020) for {'C': 0.5, 'kernel': 'rbf'}\n",
      "0.890 (+/-0.020) for {'C': 1, 'kernel': 'rbf'}\n",
      "\n",
      "mean of roc_auc scores during validation: 0.890\n",
      "----------------------------------------------------------------------\n",
      "best_model:  SVC(C=1, cache_size=200, class_weight=None, coef0=0.0,\n",
      "    decision_function_shape='ovr', degree=3, gamma='auto', kernel='rbf',\n",
      "    max_iter=-1, probability=True, random_state=42, shrinking=True, tol=0.001,\n",
      "    verbose=False)\n"
     ]
    }
   ],
   "source": [
    "svm_clf = SVC( random_state=42 , gamma = 'auto', probability= True)\n",
    "param_grid_svm = [{'kernel': ['rbf' ]  , 'C' : [ 0.5,1]}]\n",
    "\n",
    "svm_model = GridSearch_func(X = X_train_t, y= np.ravel(y_train),\n",
    "                           estimator = svm_clf, param_grid = param_grid_svm, cv=10  , scoring = 'roc_auc')"
   ]
  },
  {
   "cell_type": "code",
   "execution_count": 85,
   "metadata": {},
   "outputs": [
    {
     "name": "stdout",
     "output_type": "stream",
     "text": [
      "SVM Model\n",
      "\n",
      "Confusion Matrix:\n",
      "\n",
      "[[ 389  355]\n",
      " [ 148 1672]]\n",
      "-------------------------\n",
      "              precision    recall  f1-score   support\n",
      "\n",
      "         0.0       0.72      0.52      0.61       744\n",
      "         1.0       0.82      0.92      0.87      1820\n",
      "\n",
      "    accuracy                           0.80      2564\n",
      "   macro avg       0.77      0.72      0.74      2564\n",
      "weighted avg       0.80      0.80      0.79      2564\n",
      "\n",
      "-------------------------\n",
      "ROC AUC score: 0.8438\n",
      "\n",
      "f1 score: 0.8692\n"
     ]
    }
   ],
   "source": [
    "print(\"SVM Model\" )\n",
    "print()\n",
    "metrics(svm_model, X_test_t)"
   ]
  },
  {
   "cell_type": "markdown",
   "metadata": {},
   "source": [
    "### Stacking"
   ]
  },
  {
   "cell_type": "code",
   "execution_count": 86,
   "metadata": {},
   "outputs": [
    {
     "name": "stderr",
     "output_type": "stream",
     "text": [
      "/opt/conda/lib/python3.6/site-packages/sklearn/linear_model/logistic.py:432: FutureWarning: Default solver will be changed to 'lbfgs' in 0.22. Specify a solver to silence this warning.\n",
      "  FutureWarning)\n"
     ]
    }
   ],
   "source": [
    "#rf_model, dt_model , knn_model\n",
    "\n",
    "\n",
    "classifiers=[ rf_model, knn_model, svm_model]\n",
    "\n",
    "sclf = StackingClassifier(\n",
    "    classifiers=classifiers, meta_classifier=LogisticRegression(class_weight= {0:0.9, 1:0.1}, random_state = 42), \n",
    "    use_probas=True, average_probas=False)\n",
    "\n",
    "\n",
    "stacked_clf = sclf.fit(X_train_t, np.ravel(y_train))"
   ]
  },
  {
   "cell_type": "code",
   "execution_count": 87,
   "metadata": {},
   "outputs": [
    {
     "name": "stdout",
     "output_type": "stream",
     "text": [
      "Stacked Model\n",
      "\n",
      "Confusion Matrix:\n",
      "\n",
      "[[ 468  276]\n",
      " [ 164 1656]]\n",
      "-------------------------\n",
      "              precision    recall  f1-score   support\n",
      "\n",
      "         0.0       0.74      0.63      0.68       744\n",
      "         1.0       0.86      0.91      0.88      1820\n",
      "\n",
      "    accuracy                           0.83      2564\n",
      "   macro avg       0.80      0.77      0.78      2564\n",
      "weighted avg       0.82      0.83      0.82      2564\n",
      "\n",
      "-------------------------\n",
      "ROC AUC score: 0.8806\n",
      "\n",
      "f1 score: 0.8827\n"
     ]
    }
   ],
   "source": [
    "print(\"Stacked Model\" )\n",
    "print()\n",
    "metrics(stacked_clf, X_test_t)"
   ]
  },
  {
   "cell_type": "markdown",
   "metadata": {},
   "source": [
    "---"
   ]
  },
  {
   "cell_type": "markdown",
   "metadata": {},
   "source": [
    "### ROC-AUC Curve"
   ]
  },
  {
   "cell_type": "code",
   "execution_count": 88,
   "metadata": {},
   "outputs": [],
   "source": [
    "from sklearn.metrics import roc_curve\n",
    "def plot_roc_curve(fpr, tpr, label=None):\n",
    "    plt.plot(fpr, tpr, linewidth=2, label=label, color = \"gray\" )\n",
    "    plt.plot([0, 1], [0, 1], 'k--')\n",
    "    plt.axis([0, 1, 0, 1])\n",
    "    plt.xlabel('False Positive Rate', fontsize=16)\n",
    "    plt.ylabel('True Positive Rate', fontsize=16)"
   ]
  },
  {
   "cell_type": "code",
   "execution_count": 89,
   "metadata": {},
   "outputs": [],
   "source": [
    "X_test_t = full_pipeline.transform(X_test)\n",
    "\n",
    "fpr_rf, tpr_rf, thresholds_rf = roc_curve(y_test,rf_model.predict_proba(X_test_t)[:,1])\n",
    "fpr_dt, tpr_dt, thresholds_dt = roc_curve(y_test,dt_model.predict_proba(X_test_t)[:,1])\n",
    "fpr_knn, tpr_knn, thresholds_knn = roc_curve(y_test,knn_model.predict_proba(X_test_t)[:,1])\n",
    "fpr_svm, tpr_svm, thresholds_svm = roc_curve(y_test,svm_model.predict_proba(X_test_t)[:,1])\n",
    "\n",
    "fpr_st, tpr_st, thresholds_st = roc_curve(y_test,stacked_clf.predict_proba(X_test_t)[:,1])\n"
   ]
  },
  {
   "cell_type": "code",
   "execution_count": 90,
   "metadata": {},
   "outputs": [
    {
     "data": {
      "image/png": "[encoded data removed]",
      "text/plain": [
       "<Figure size 800x800 with 1 Axes>"
      ]
     },
     "metadata": {},
     "output_type": "display_data"
    }
   ],
   "source": [
    "plt.figure(figsize=(8, 8))\n",
    "plt.plot(fpr_rf, tpr_rf, \"g--\", linewidth=2, label=\"RandomForests\")\n",
    "plt.plot(fpr_knn, tpr_knn, \"r-.\", linewidth=2, label=\"KNN\")\n",
    "plt.plot(fpr_svm, tpr_svm, \"y:\", linewidth=2, label=\"SVM\")\n",
    "plt.plot(fpr_st, tpr_st, \"b-\", linewidth=2, label=\"Stacked\")\n",
    "plot_roc_curve(fpr_dt, tpr_dt, \"Decision Tree\" )\n",
    "plt.legend(loc=\"lower right\", fontsize=16)\n",
    "plt.show()"
   ]
  },
  {
   "cell_type": "markdown",
   "metadata": {},
   "source": [
    "### precision recall vs threshold - Random Forests Model"
   ]
  },
  {
   "cell_type": "code",
   "execution_count": 91,
   "metadata": {},
   "outputs": [],
   "source": [
    "from sklearn.metrics import precision_recall_curve\n",
    "\n",
    "y_scores_rf = rf_model.predict_proba(X_test_t)[:,1] # score = proba of positive class\n",
    "precisions, recalls, thresholds = precision_recall_curve(y_test, y_scores_rf)"
   ]
  },
  {
   "cell_type": "code",
   "execution_count": 92,
   "metadata": {},
   "outputs": [
    {
     "data": {
      "image/png": "[encoded data removed]",
      "text/plain": [
       "<Figure size 800x400 with 1 Axes>"
      ]
     },
     "metadata": {},
     "output_type": "display_data"
    }
   ],
   "source": [
    "sns.set(style = \"whitegrid\")\n",
    "def plot_precision_recall_vs_threshold(precisions, recalls, thresholds):\n",
    "    plt.plot(thresholds, precisions[:-1], \"b--\", label=\"Precision\", linewidth=2)\n",
    "    plt.plot(thresholds, recalls[:-1], \"g-\", label=\"Recall\", linewidth=2)\n",
    "    plt.xlabel(\"Threshold\", fontsize=16)\n",
    "    plt.legend(loc=\"lower left\", fontsize=16)\n",
    "    plt.ylim([0, 1])\n",
    "\n",
    "plt.figure(figsize=(8, 4))\n",
    "sns.set(style = \"whitegrid\")\n",
    "plot_precision_recall_vs_threshold(precisions, recalls, thresholds)\n",
    "plt.xticks([x / 10.0 for x in range(0, 10)])\n",
    "plt.xlim([0,1])\n",
    "plt.grid()\n",
    "plt.show()"
   ]
  },
  {
   "cell_type": "code",
   "execution_count": 93,
   "metadata": {},
   "outputs": [
    {
     "data": {
      "image/png": "[encoded data removed]",
      "text/plain": [
       "<Figure size 800x600 with 1 Axes>"
      ]
     },
     "metadata": {},
     "output_type": "display_data"
    }
   ],
   "source": [
    "def plot_precision_vs_recall(precisions, recalls):\n",
    "    plt.plot(recalls, precisions, \"b-\", linewidth=2)\n",
    "    plt.xlabel(\"Recall\", fontsize=16)\n",
    "    plt.ylabel(\"Precision\", fontsize=16)\n",
    "    plt.axis([0, 1, 0, 1])\n",
    "\n",
    "plt.figure(figsize=(8, 6))\n",
    "plot_precision_vs_recall(precisions, recalls)\n",
    "plt.show()"
   ]
  },
  {
   "cell_type": "code",
   "execution_count": 94,
   "metadata": {},
   "outputs": [
    {
     "name": "stdout",
     "output_type": "stream",
     "text": [
      "Confusion Matrix:\n",
      "\n",
      "[[ 593  151]\n",
      " [ 393 1427]]\n",
      "-------------------------\n",
      "              precision    recall  f1-score   support\n",
      "\n",
      "         0.0       0.60      0.80      0.69       744\n",
      "         1.0       0.90      0.78      0.84      1820\n",
      "\n",
      "    accuracy                           0.79      2564\n",
      "   macro avg       0.75      0.79      0.76      2564\n",
      "weighted avg       0.82      0.79      0.80      2564\n",
      "\n",
      "-------------------------\n",
      "ROC AUC score: 0.8675\n",
      "\n",
      "f1 score: 0.8399\n"
     ]
    }
   ],
   "source": [
    "#Recall for class 1 = 0.8 --> threshold = 0.74 (based on the plot)\n",
    "y_pred_diff_th = (y_scores_rf >0.74)\n",
    "\n",
    "\n",
    "cm = confusion_matrix(y_test, y_pred_diff_th)\n",
    "print(\"Confusion Matrix:\")\n",
    "print()\n",
    "print(cm)\n",
    "print(\"-----\"*5)\n",
    "\n",
    "print(classification_report(y_test, y_pred_diff_th))\n",
    "print(\"-----\"*5)\n",
    "\n",
    "y_proba = rf_model.predict_proba(X_test_t)\n",
    "y_scores = y_proba[:, 1]\n",
    "auc = roc_auc_score (y_test, y_scores)\n",
    "\n",
    "print(f\"ROC AUC score: {auc:.4f}\")\n",
    "print()\n",
    "\n",
    "f1 = f1_score(y_test, y_pred_diff_th)\n",
    "print(f\"f1 score: {f1:.4f}\")  "
   ]
  },
  {
   "cell_type": "markdown",
   "metadata": {},
   "source": [
    "### Models score Comparison"
   ]
  },
  {
   "cell_type": "code",
   "execution_count": 95,
   "metadata": {},
   "outputs": [
    {
     "data": {
      "text/html": [
       "<div>\n",
       "<style scoped>\n",
       "    .dataframe tbody tr th:only-of-type {\n",
       "        vertical-align: middle;\n",
       "    }\n",
       "\n",
       "    .dataframe tbody tr th {\n",
       "        vertical-align: top;\n",
       "    }\n",
       "\n",
       "    .dataframe thead th {\n",
       "        text-align: right;\n",
       "    }\n",
       "</style>\n",
       "<table border=\"1\" class=\"dataframe\">\n",
       "  <thead>\n",
       "    <tr style=\"text-align: right;\">\n",
       "      <th></th>\n",
       "      <th>Model</th>\n",
       "      <th>Accuracy</th>\n",
       "      <th>AUC-ROC</th>\n",
       "      <th>f1 score</th>\n",
       "    </tr>\n",
       "  </thead>\n",
       "  <tbody>\n",
       "    <tr>\n",
       "      <th>0</th>\n",
       "      <td>RandomForests</td>\n",
       "      <td>0.82</td>\n",
       "      <td>0.87</td>\n",
       "      <td>0.88</td>\n",
       "    </tr>\n",
       "    <tr>\n",
       "      <th>1</th>\n",
       "      <td>KNN</td>\n",
       "      <td>0.82</td>\n",
       "      <td>0.87</td>\n",
       "      <td>0.88</td>\n",
       "    </tr>\n",
       "    <tr>\n",
       "      <th>2</th>\n",
       "      <td>SVM</td>\n",
       "      <td>0.80</td>\n",
       "      <td>0.84</td>\n",
       "      <td>0.87</td>\n",
       "    </tr>\n",
       "    <tr>\n",
       "      <th>3</th>\n",
       "      <td>Stacked Model</td>\n",
       "      <td>0.83</td>\n",
       "      <td>0.88</td>\n",
       "      <td>0.88</td>\n",
       "    </tr>\n",
       "  </tbody>\n",
       "</table>\n",
       "</div>"
      ],
      "text/plain": [
       "           Model  Accuracy  AUC-ROC  f1 score\n",
       "0  RandomForests      0.82     0.87      0.88\n",
       "1            KNN      0.82     0.87      0.88\n",
       "2            SVM      0.80     0.84      0.87\n",
       "3  Stacked Model      0.83     0.88      0.88"
      ]
     },
     "execution_count": 95,
     "metadata": {},
     "output_type": "execute_result"
    }
   ],
   "source": [
    "accuracy = []\n",
    "auc = []\n",
    "f1 = []\n",
    "for model in [rf_model, knn_model , svm_model , stacked_clf]:\n",
    "    accuracy.append(np.around(accuracy_score(y_test,  model.predict(X_test_t)), decimals = 2))\n",
    "    auc.append(np.around(roc_auc_score (y_test, model.predict_proba(X_test_t)[:, 1]), decimals = 2))\n",
    "    f1.append(np.around(f1_score(y_test,  model.predict(X_test_t)), decimals = 2))\n",
    "    \n",
    "model_scores = {\"Model\": [\"RandomForests\", \"KNN\", \"SVM\", \"Stacked Model\"],\n",
    "             \"Accuracy\": accuracy,\n",
    "              \"AUC-ROC\":auc,\n",
    "               \"f1 score\": f1}\n",
    "\n",
    "score_df = pd.DataFrame(model_scores)\n",
    "score_df"
   ]
  }
 ],
 "metadata": {
  "kernelspec": {
   "display_name": "Python 3",
   "language": "python",
   "name": "python3"
  },
  "language_info": {
   "codemirror_mode": {
    "name": "ipython",
    "version": 3
   },
   "file_extension": ".py",
   "mimetype": "text/x-python",
   "name": "python",
   "nbconvert_exporter": "python",
   "pygments_lexer": "ipython3",
   "version": "3.6.8"
  }
 },
 "nbformat": 4,
 "nbformat_minor": 1
}
